{
  "cells": [
    {
      "cell_type": "markdown",
      "metadata": {
        "pycharm": {}
      },
      "source": "# Regular Expressions in Python.\n\n\u003e Some people, when confronted with a problem, think, \"I know, I\u0027ll use regular expressions.\" Now they have two problems. - Jamie Zawinski\n\n## First day: quick overview\n\nThis first day we will explore the basics of the `re` (standard libary) module so you can start adding this powerful skill to your Python toolkit."
    },
    {
      "cell_type": "code",
      "execution_count": 4,
      "metadata": {
        "pycharm": {
          "is_executing": false
        }
      },
      "outputs": [],
      "source": "import re"
    },
    {
      "cell_type": "markdown",
      "metadata": {
        "pycharm": {}
      },
      "source": [
        "### When not to use regexes? \n",
        "\n",
        "Basically when regular string manipulations will do, for example:"
      ]
    },
    {
      "cell_type": "code",
      "execution_count": 5,
      "metadata": {
        "pycharm": {
          "is_executing": false
        }
      },
      "outputs": [],
      "source": [
        "text \u003d \u0027Awesome, I am doing the #100DaysOfCode challenge\u0027"
      ]
    },
    {
      "cell_type": "markdown",
      "metadata": {
        "pycharm": {}
      },
      "source": [
        "Does text start with \u0027Awesome\u0027?"
      ]
    },
    {
      "cell_type": "code",
      "execution_count": 6,
      "metadata": {
        "pycharm": {
          "is_executing": false
        }
      },
      "outputs": [
        {
          "data": {
            "text/plain": "True"
          },
          "metadata": {},
          "output_type": "execute_result",
          "execution_count": 6
        }
      ],
      "source": [
        "text.startswith(\u0027Awesome\u0027)"
      ]
    },
    {
      "cell_type": "markdown",
      "metadata": {
        "pycharm": {}
      },
      "source": [
        "Does text end with \u0027challenge\u0027?"
      ]
    },
    {
      "cell_type": "code",
      "execution_count": null,
      "metadata": {
        "pycharm": {}
      },
      "outputs": [],
      "source": [
        "text.endswith(\u0027challenge\u0027)"
      ]
    },
    {
      "cell_type": "markdown",
      "metadata": {
        "pycharm": {}
      },
      "source": [
        "Does text contain \u0027100daysofcode\u0027 (case insensitive)\n"
      ]
    },
    {
      "cell_type": "code",
      "execution_count": null,
      "metadata": {
        "pycharm": {}
      },
      "outputs": [],
      "source": [
        "\u0027100daysofcode\u0027 in text.lower()"
      ]
    },
    {
      "cell_type": "markdown",
      "metadata": {
        "pycharm": {}
      },
      "source": [
        "I am bold and want to do 200 days (note strings are inmutable, so save to a new string)"
      ]
    },
    {
      "cell_type": "code",
      "execution_count": null,
      "metadata": {
        "pycharm": {}
      },
      "outputs": [],
      "source": [
        "text.replace(\u0027100\u0027, \u0027200\u0027)"
      ]
    },
    {
      "cell_type": "markdown",
      "metadata": {
        "pycharm": {}
      },
      "source": [
        "### Regex \u003d\u003d Meta language\n",
        "\n",
        "But what if you need to do some more tricky things, say matching any #(int)DaysOfCode? Here you want to use a regex pattern. Regular expressions are a (meta) language on their own and I highly encourage you to read through [this HOWTO](https://docs.python.org/3.7/howto/regex.html#regex-howto) to become familiar with their syntax."
      ]
    },
    {
      "cell_type": "markdown",
      "metadata": {
        "pycharm": {}
      },
      "source": [
        "### `search` vs `match` \n",
        "\n",
        "The main methods you want to know about are `search` and `match`, former matches a substring, latter matches the string from beginning to end. I always embed my regex in `r\u0027\u0027` to avoid having to escape special characters like \\d (digit), \\w (char), \\s (space), \\S (non-space), etc (I think \\\\\\d and \\\\\\s clutters up the regex)"
      ]
    },
    {
      "cell_type": "code",
      "execution_count": null,
      "metadata": {
        "pycharm": {}
      },
      "outputs": [],
      "source": [
        "text \u003d \u0027Awesome, I am doing the #100DaysOfCode challenge\u0027"
      ]
    },
    {
      "cell_type": "code",
      "execution_count": null,
      "metadata": {
        "pycharm": {}
      },
      "outputs": [],
      "source": [
        "re.search(r\u0027I am\u0027, text)"
      ]
    },
    {
      "cell_type": "code",
      "execution_count": null,
      "metadata": {
        "pycharm": {}
      },
      "outputs": [],
      "source": [
        "re.match(r\u0027I am\u0027, text)"
      ]
    },
    {
      "cell_type": "code",
      "execution_count": null,
      "metadata": {
        "pycharm": {}
      },
      "outputs": [],
      "source": [
        "re.match(r\u0027Awesome.*challenge\u0027, text)"
      ]
    },
    {
      "cell_type": "markdown",
      "metadata": {
        "pycharm": {}
      },
      "source": [
        "### Capturing strings\n",
        "\n",
        "A common task is to retrieve a match, you can use _capturing () parenthesis_ for that:"
      ]
    },
    {
      "cell_type": "code",
      "execution_count": null,
      "metadata": {
        "pycharm": {}
      },
      "outputs": [],
      "source": [
        "hundred \u003d \u0027Awesome, I am doing the #100DaysOfCode challenge\u0027\n",
        "two_hundred \u003d \u0027Awesome, I am doing the #200DaysOfCode challenge\u0027\n",
        "\n",
        "m \u003d re.match(r\u0027.*(#\\d+DaysOfCode).*\u0027, hundred)\n",
        "m.groups()[0]"
      ]
    },
    {
      "cell_type": "code",
      "execution_count": null,
      "metadata": {
        "pycharm": {}
      },
      "outputs": [],
      "source": [
        "m \u003d re.search(r\u0027(#\\d+DaysOfCode)\u0027, two_hundred)\n",
        "m.groups()[0]"
      ]
    },
    {
      "cell_type": "markdown",
      "metadata": {
        "pycharm": {}
      },
      "source": [
        "### `findall` is your friend\n",
        "\n",
        "What if you want to match multiple instances of a pattern? `re` has the convenient `findall` method I use a lot. For example in [our 100 Days Of Code](https://github.com/pybites/100DaysOfCode/blob/master/LOG.md) we used the `re` module for the following days - how would I extract the days from this string?"
      ]
    },
    {
      "cell_type": "code",
      "execution_count": null,
      "metadata": {
        "pycharm": {}
      },
      "outputs": [],
      "source": [
        "text \u003d \u0027\u0027\u0027\n",
        "$ python module_index.py |grep ^re\n",
        "re                 | stdlib | 005, 007, 009, 015, 021, 022, 068, 080, 081, 086, 095\n",
        "\u0027\u0027\u0027\n",
        "\n",
        "re.findall(r\u0027\\d+\u0027, text)"
      ]
    },
    {
      "cell_type": "markdown",
      "metadata": {
        "pycharm": {}
      },
      "source": [
        "How cool is that?! Just because we can, look at how you can find the most common word combining `findall` with `Counter`:"
      ]
    },
    {
      "cell_type": "code",
      "execution_count": null,
      "metadata": {
        "pycharm": {}
      },
      "outputs": [],
      "source": [
        "text \u003d \"\"\"Lorem Ipsum is simply dummy text of the printing and typesetting industry. Lorem Ipsum has been \n",
        "the industry\u0027s standard dummy text ever since the 1500s, when an unknown printer took a galley of type and \n",
        "scrambled it to make a type specimen book. It has survived not only five centuries, but also the leap into \n",
        "electronic typesetting, remaining essentially unchanged. It was popularised in the 1960s with the release of\n",
        "Letraset sheets containing Lorem Ipsum passages, and more recently with desktop publishing software like Aldus\n",
        "PageMaker including versions of Lorem Ipsum\"\"\""
      ]
    },
    {
      "cell_type": "code",
      "execution_count": null,
      "metadata": {
        "pycharm": {}
      },
      "outputs": [],
      "source": [
        "text.split()[:5]"
      ]
    },
    {
      "cell_type": "markdown",
      "metadata": {
        "pycharm": {}
      },
      "source": [
        "Of course you can do the same with `words.split()` but if you have more requirements you might fit it in the same regex, for example let\u0027s only count words that start with a capital letter.\n",
        "\n",
        "I am using two _character classes_ here (\u003d pattern inside `[]`), the first to match a capital letter, the second to match 0 or more common word characters. \n",
        "\n",
        "Note I am escaping the single quote (\u0027) inside the second character class, because the regex pattern is wrapped inside single quotes as well: "
      ]
    },
    {
      "cell_type": "code",
      "execution_count": null,
      "metadata": {
        "pycharm": {}
      },
      "outputs": [],
      "source": [
        "from collections import Counter\n",
        "\n",
        "cnt \u003d Counter(re.findall(r\u0027[A-Z][A-Za-z0-9\\\u0027]*\u0027, text))\n",
        "cnt.most_common(5)"
      ]
    },
    {
      "cell_type": "markdown",
      "metadata": {
        "pycharm": {}
      },
      "source": [
        "### Compiling regexes"
      ]
    },
    {
      "cell_type": "markdown",
      "metadata": {
        "pycharm": {}
      },
      "source": [
        "If you want to run the same regex multiple times, say in a for loop it is best practice to define the regex one time using `re.compile`, here is an example:"
      ]
    },
    {
      "cell_type": "code",
      "execution_count": null,
      "metadata": {
        "pycharm": {}
      },
      "outputs": [],
      "source": [
        "movies \u003d \u0027\u0027\u00271. Citizen Kane (1941)\n",
        "2. The Godfather (1972)\n",
        "3. Casablanca (1942)\n",
        "4. Raging Bull (1980)\n",
        "5. Singin\u0027 in the Rain (1952)\n",
        "6. Gone with the Wind (1939)\n",
        "7. Lawrence of Arabia (1962)\n",
        "8. Schindler\u0027s List (1993)\n",
        "9. Vertigo (1958)\n",
        "10. The Wizard of Oz (1939)\u0027\u0027\u0027.split(\u0027\\n\u0027)\n",
        "movies"
      ]
    },
    {
      "cell_type": "markdown",
      "metadata": {
        "pycharm": {}
      },
      "source": [
        "Let\u0027s find movie titles that have exactly 2 words, just for exercise sake. Before peaking to the solution how would _you_ define such a regex?"
      ]
    },
    {
      "cell_type": "markdown",
      "metadata": {
        "pycharm": {}
      },
      "source": [
        "OK here is one way to do it, I am using `re.VERBOSE` which ignores spaces and comments so I can explain what each part of the regex does (really nice!):"
      ]
    },
    {
      "cell_type": "code",
      "execution_count": null,
      "metadata": {
        "pycharm": {}
      },
      "outputs": [],
      "source": [
        "pat \u003d re.compile(r\u0027\u0027\u0027\n",
        "                  ^             # start of string\n",
        "                  \\d+           # one or more digits\n",
        "                  \\.            # a literal dot\n",
        "                  \\s+           # one or more spaces\n",
        "                  (?:           # non-capturing parenthesis, so I don\u0027t want store this match in groups()\n",
        "                  [A-Za-z\u0027]+\\s  # character class (note inclusion of \u0027 for \"Schindler\u0027s\"), followed by a space\n",
        "                  )             # closing of non-capturing parenthesis\n",
        "                  {2}           # exactly 2 of the previously grouped subpattern\n",
        "                  \\(            # literal opening parenthesis\n",
        "                  \\d{4}         # exactly 4 digits (year)\n",
        "                  \\)            # literal closing parenthesis\n",
        "                  $             # end of string\n",
        "                  \u0027\u0027\u0027, re.VERBOSE)"
      ]
    },
    {
      "cell_type": "markdown",
      "metadata": {
        "pycharm": {}
      },
      "source": [
        "As we\u0027ve seen before if the regex matches it returns an `_sre.SRE_Match` object, otherwise it returns `None`"
      ]
    },
    {
      "cell_type": "code",
      "execution_count": null,
      "metadata": {
        "pycharm": {}
      },
      "outputs": [],
      "source": [
        "for movie in movies:\n",
        "    print(movie, pat.match(movie))"
      ]
    },
    {
      "cell_type": "markdown",
      "metadata": {
        "pycharm": {}
      },
      "source": [
        "### Advanced string replacing"
      ]
    },
    {
      "cell_type": "markdown",
      "metadata": {
        "pycharm": {}
      },
      "source": [
        "As shown before `str.replace` probably covers a lot of your needs, for more advanced usage there is `re.sub`: "
      ]
    },
    {
      "cell_type": "code",
      "execution_count": null,
      "metadata": {
        "pycharm": {}
      },
      "outputs": [],
      "source": [
        "text \u003d \u0027\u0027\u0027Awesome, I am doing #100DaysOfCode, #200DaysOfDjango and of course #365DaysOfPyBites\u0027\u0027\u0027\n",
        "\n",
        "# I want all challenges to be 100 days, I need a break!\n",
        "text.replace(\u0027200\u0027, \u0027100\u0027).replace(\u0027365\u0027, \u0027100\u0027)"
      ]
    },
    {
      "cell_type": "markdown",
      "metadata": {
        "pycharm": {}
      },
      "source": [
        "`re.sub` makes this easy:"
      ]
    },
    {
      "cell_type": "code",
      "execution_count": null,
      "metadata": {
        "pycharm": {}
      },
      "outputs": [],
      "source": [
        "re.sub(r\u0027\\d+\u0027, \u0027100\u0027, text)"
      ]
    },
    {
      "cell_type": "markdown",
      "metadata": {
        "pycharm": {}
      },
      "source": [
        "Or what if I want to change all the #nDaysOf... to #nDaysOfPython? You can use `re.sub` for this. Note how I use the capturing parenthesis to port over the matching part of the string to the replacement (2nd argument) where I use `\\1` to reference it:"
      ]
    },
    {
      "cell_type": "code",
      "execution_count": null,
      "metadata": {
        "pycharm": {}
      },
      "outputs": [],
      "source": [
        "re.sub(r\u0027(#\\d+DaysOf)\\w+\u0027, r\u0027\\1Python\u0027, text)"
      ]
    },
    {
      "cell_type": "markdown",
      "metadata": {
        "pycharm": {}
      },
      "source": [
        "And that\u0027s a wrap. I only showed you some of the common `re` features I use day-to-day, but there is much more. I hope you got a taste for writing regexes in Python."
      ]
    },
    {
      "cell_type": "markdown",
      "metadata": {
        "pycharm": {}
      },
      "source": [
        "## Second day: solidify what you\u0027ve learned\n",
        "\n",
        "A. We recommend reading [10 Tips to Get More out of Your Regexes](https://pybit.es/mastering-regex.html) + watching the Al Sweigart\u0027s PyCon talk: _Yes, It\u0027s Time to Learn Regular Expressions_, linked at the end. \n",
        "\n",
        "If you still have time check out [the mentioned HOWTO](https://docs.python.org/3.7/howto/regex.html#regex-howto) and the [docs](https://docs.python.org/3.7/library/re.html).\n",
        "\n",
        "B. Write some regexes interactively using an online tool like [regex101](https://regex101.com/#python).\n"
      ]
    },
    {
      "cell_type": "markdown",
      "metadata": {
        "pycharm": {}
      },
      "source": [
        "## Third day: put your new skill to the test!\n",
        "\n",
        "A. Take [Bite 2. Regex Fun](https://codechalleng.es/bites/2/) which should be within reach after studying the materials. It let\u0027s you write 3 regexes. Like to work on your desktop? Maybe you can do [blog challenge 42 - Mastering Regular Expressions](https://codechalleng.es/challenges/42/) which is similar but let\u0027s you solve 6 regex problems!\n",
        "\n",
        "B. More fun: `wget` or `request.get` your favorite site and use regex on the output to parse out data (fun trivia: a similar exercise is where [our code challenges started](https://pybit.es/js_time_scraper_ch.html)).\n",
        "\n",
        "Good luck and remember: \n",
        "\n",
        "\u003e Keep calm and code in Python"
      ]
    },
    {
      "cell_type": "markdown",
      "metadata": {
        "pycharm": {}
      },
      "source": [
        "### Time to share what you\u0027ve accomplished!\n",
        "\n",
        "Be sure to share your last couple of days work on Twitter or Facebook. Use the hashtag **#100DaysOfCode**. \n",
        "\n",
        "Here are [some examples](https://twitter.com/search?q\u003d%23100DaysOfCode) to inspire you. Consider including [@talkpython](https://twitter.com/talkpython) and [@pybites](https://twitter.com/pybites) in your tweets.\n",
        "\n",
        "*See a mistake in these instructions? Please [submit a new issue](https://github.com/talkpython/100daysofcode-with-python-course/issues) or fix it and [submit a PR](https://github.com/talkpython/100daysofcode-with-python-course/pulls).*"
      ]
    }
  ],
  "metadata": {
    "kernelspec": {
      "name": "pycharm-8be7ec78",
      "language": "python",
      "display_name": "PyCharm (pythonic)"
    },
    "language_info": {
      "codemirror_mode": {
        "name": "ipython",
        "version": 3
      },
      "file_extension": ".py",
      "mimetype": "text/x-python",
      "name": "python",
      "nbconvert_exporter": "python",
      "pygments_lexer": "ipython3",
      "version": "3.6.5"
    }
  },
  "nbformat": 4,
  "nbformat_minor": 2
}