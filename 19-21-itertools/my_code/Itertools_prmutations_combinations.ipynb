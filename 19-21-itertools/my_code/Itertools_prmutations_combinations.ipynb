{
  "cells": [
    {
      "cell_type": "code",
      "execution_count": 11,
      "metadata": {
        "collapsed": true,
        "pycharm": {
          "is_executing": false
        }
      },
      "outputs": [],
      "source": "from itertools import permutations, combinations"
    },
    {
      "cell_type": "code",
      "execution_count": 16,
      "outputs": [
        {
          "name": "stdout",
          "text": [
            "[(\u0027mike\u0027, \u0027bob\u0027), (\u0027mike\u0027, \u0027julian\u0027), (\u0027bob\u0027, \u0027julian\u0027)]\n"
          ],
          "output_type": "stream"
        }
      ],
      "source": "friends \u003d \u0027mike bob julian\u0027.split()\nfriends\nprint(list(combinations(friends, 2))) # note no order!",
      "metadata": {
        "pycharm": {
          "metadata": false,
          "name": "#%%\n",
          "is_executing": false
        }
      }
    },
    {
      "cell_type": "markdown",
      "source": "combinations just gives list of combos - doesn\u0027t care about order - that\u0027s where permutations come in!\nP gives result and in whatever order they can be in.",
      "metadata": {
        "pycharm": {
          "metadata": false
        }
      }
    },
    {
      "cell_type": "code",
      "execution_count": 18,
      "outputs": [
        {
          "name": "stdout",
          "text": [
            "[(\u0027mike\u0027, \u0027bob\u0027), (\u0027mike\u0027, \u0027julian\u0027), (\u0027bob\u0027, \u0027julian\u0027)]\n[(\u0027mike\u0027, \u0027bob\u0027), (\u0027mike\u0027, \u0027julian\u0027), (\u0027bob\u0027, \u0027mike\u0027), (\u0027bob\u0027, \u0027julian\u0027), (\u0027julian\u0027, \u0027mike\u0027), (\u0027julian\u0027, \u0027bob\u0027)]\n"
          ],
          "output_type": "stream"
        }
      ],
      "source": "print(list(combinations(friends, 2)))\nprint(list(permutations(friends, 2)))",
      "metadata": {
        "pycharm": {
          "metadata": false,
          "name": "#%%\n",
          "is_executing": false
        }
      }
    },
    {
      "cell_type": "code",
      "execution_count": 19,
      "outputs": [],
      "source": "# mike, bob and bob, mike",
      "metadata": {
        "pycharm": {
          "metadata": false,
          "name": "#%%\n",
          "is_executing": false
        }
      }
    },
    {
      "cell_type": "code",
      "execution_count": null,
      "outputs": [],
      "source": "\n",
      "metadata": {
        "pycharm": {
          "metadata": false,
          "name": "#%%\n"
        }
      }
    }
  ],
  "metadata": {
    "language_info": {
      "codemirror_mode": {
        "name": "ipython",
        "version": 2
      },
      "file_extension": ".py",
      "mimetype": "text/x-python",
      "name": "python",
      "nbconvert_exporter": "python",
      "pygments_lexer": "ipython2",
      "version": "2.7.6"
    },
    "kernelspec": {
      "name": "pycharm-8be7ec78",
      "language": "python",
      "display_name": "PyCharm (pythonic)"
    }
  },
  "nbformat": 4,
  "nbformat_minor": 0
}