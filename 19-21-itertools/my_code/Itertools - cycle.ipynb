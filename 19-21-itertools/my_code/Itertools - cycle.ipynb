{
  "cells": [
    {
      "cell_type": "code",
      "execution_count": 3,
      "outputs": [],
      "source": "import itertools\nimport sys\nimport time\n",
      "metadata": {
        "pycharm": {
          "metadata": false,
          "name": "#%%\n",
          "is_executing": false
        }
      }
    },
    {
      "cell_type": "code",
      "execution_count": 4,
      "outputs": [],
      "source": "symbols \u003d itertools.cycle(\u0027-\\|/\u0027)\n    ",
      "metadata": {
        "pycharm": {
          "metadata": false,
          "name": "#%%\n",
          "is_executing": false
        }
      }
    },
    {
      "cell_type": "code",
      "execution_count": 5,
      "outputs": [
        {
          "name": "stdout",
          "text": [
            "-\n\\\n|\n/\n-\n\\\n|\n/\n-\n\\\n"
          ],
          "output_type": "stream"
        }
      ],
      "source": "i \u003d 0\nwhile i \u003c 10:\n    # sys.stdout.write(\u0027\\r\u0027 + next(symbols))\n    # sys.stdout.flush()\n    # time.sleep(0.5)\n    print(next(symbols))\n    i +\u003d 1\n    # works ",
      "metadata": {
        "pycharm": {
          "metadata": false,
          "name": "#%%\n",
          "is_executing": false
        }
      }
    },
    {
      "cell_type": "code",
      "execution_count": 6,
      "outputs": [
        {
          "name": "stdout",
          "text": [
            "(\u0027a\u0027, \u0027a\u0027)\n(\u0027a\u0027, \u0027n\u0027)\n(\u0027a\u0027, \u0027t\u0027)\n(\u0027a\u0027, \u0027h\u0027)\n(\u0027a\u0027, \u0027o\u0027)\n(\u0027a\u0027, \u0027n\u0027)\n(\u0027a\u0027, \u0027y\u0027)\n(\u0027n\u0027, \u0027a\u0027)\n(\u0027n\u0027, \u0027n\u0027)\n(\u0027n\u0027, \u0027t\u0027)\n(\u0027n\u0027, \u0027h\u0027)\n(\u0027n\u0027, \u0027o\u0027)\n(\u0027n\u0027, \u0027n\u0027)\n(\u0027n\u0027, \u0027y\u0027)\n(\u0027t\u0027, \u0027a\u0027)\n(\u0027t\u0027, \u0027n\u0027)\n(\u0027t\u0027, \u0027t\u0027)\n(\u0027t\u0027, \u0027h\u0027)\n(\u0027t\u0027, \u0027o\u0027)\n(\u0027t\u0027, \u0027n\u0027)\n(\u0027t\u0027, \u0027y\u0027)\n(\u0027h\u0027, \u0027a\u0027)\n(\u0027h\u0027, \u0027n\u0027)\n(\u0027h\u0027, \u0027t\u0027)\n(\u0027h\u0027, \u0027h\u0027)\n(\u0027h\u0027, \u0027o\u0027)\n(\u0027h\u0027, \u0027n\u0027)\n(\u0027h\u0027, \u0027y\u0027)\n(\u0027o\u0027, \u0027a\u0027)\n(\u0027o\u0027, \u0027n\u0027)\n(\u0027o\u0027, \u0027t\u0027)\n(\u0027o\u0027, \u0027h\u0027)\n(\u0027o\u0027, \u0027o\u0027)\n(\u0027o\u0027, \u0027n\u0027)\n(\u0027o\u0027, \u0027y\u0027)\n(\u0027n\u0027, \u0027a\u0027)\n(\u0027n\u0027, \u0027n\u0027)\n(\u0027n\u0027, \u0027t\u0027)\n(\u0027n\u0027, \u0027h\u0027)\n(\u0027n\u0027, \u0027o\u0027)\n(\u0027n\u0027, \u0027n\u0027)\n(\u0027n\u0027, \u0027y\u0027)\n(\u0027y\u0027, \u0027a\u0027)\n(\u0027y\u0027, \u0027n\u0027)\n(\u0027y\u0027, \u0027t\u0027)\n(\u0027y\u0027, \u0027h\u0027)\n(\u0027y\u0027, \u0027o\u0027)\n(\u0027y\u0027, \u0027n\u0027)\n(\u0027y\u0027, \u0027y\u0027)\n"
          ],
          "output_type": "stream"
        }
      ],
      "source": "from itertools import product\n\nfor letter in product(\"anthony\", repeat \u003d 2):\n    print(letter)\n    \n",
      "metadata": {
        "pycharm": {
          "metadata": false,
          "name": "#%%\n",
          "is_executing": false
        }
      }
    }
  ],
  "metadata": {
    "language_info": {
      "codemirror_mode": {
        "name": "ipython",
        "version": 2
      },
      "file_extension": ".py",
      "mimetype": "text/x-python",
      "name": "python",
      "nbconvert_exporter": "python",
      "pygments_lexer": "ipython2",
      "version": "2.7.6"
    },
    "kernelspec": {
      "name": "pycharm-8be7ec78",
      "language": "python",
      "display_name": "PyCharm (pythonic)"
    },
    "stem_cell": {
      "cell_type": "raw",
      "source": "",
      "metadata": {
        "pycharm": {
          "metadata": false
        }
      }
    }
  },
  "nbformat": 4,
  "nbformat_minor": 0
}