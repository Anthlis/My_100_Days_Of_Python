{
  "cells": [
    {
      "cell_type": "markdown",
      "metadata": {
        "collapsed": true,
        "pycharm": {
          "is_executing": false,
          "name": "#%% md\n"
        }
      },
      "source": "Datetime"
    },
    {
      "cell_type": "code",
      "execution_count": 23,
      "outputs": [
        {
          "name": "stdout",
          "text": [
            "testrun\n"
          ],
          "output_type": "stream"
        }
      ],
      "source": "print(\u0027testrun\u0027)",
      "metadata": {
        "pycharm": {
          "metadata": false,
          "name": "#%%\n",
          "is_executing": false
        }
      }
    },
    {
      "cell_type": "code",
      "execution_count": 24,
      "outputs": [
        {
          "data": {
            "text/plain": "datetime.datetime(2019, 4, 1, 21, 2, 17, 540675)"
          },
          "metadata": {},
          "output_type": "execute_result",
          "execution_count": 24
        }
      ],
      "source": "from datetime import datetime\nfrom datetime import date\n\ndatetime.today()",
      "metadata": {
        "pycharm": {
          "metadata": false,
          "name": "#%%\n",
          "is_executing": false
        }
      }
    },
    {
      "cell_type": "code",
      "execution_count": 25,
      "outputs": [
        {
          "name": "stdout",
          "text": [
            "2019-04-01 21:02:17.962779\n"
          ],
          "output_type": "stream"
        }
      ],
      "source": "today \u003d datetime.today()\nprint(today)",
      "metadata": {
        "pycharm": {
          "metadata": false,
          "name": "#%%\n",
          "is_executing": false
        }
      }
    },
    {
      "cell_type": "code",
      "execution_count": 26,
      "outputs": [
        {
          "data": {
            "text/plain": "datetime.datetime"
          },
          "metadata": {},
          "output_type": "execute_result",
          "execution_count": 26
        }
      ],
      "source": "type(today)\n",
      "metadata": {
        "pycharm": {
          "metadata": false,
          "name": "#%%\n",
          "is_executing": false
        }
      }
    },
    {
      "cell_type": "code",
      "execution_count": 27,
      "outputs": [
        {
          "data": {
            "text/plain": "datetime.date"
          },
          "metadata": {},
          "output_type": "execute_result",
          "execution_count": 27
        }
      ],
      "source": "todaydate \u003d date.today()\ntype(todaydate)",
      "metadata": {
        "pycharm": {
          "metadata": false,
          "name": "#%%\n",
          "is_executing": false
        }
      }
    },
    {
      "cell_type": "code",
      "execution_count": 28,
      "outputs": [
        {
          "data": {
            "text/plain": "2019"
          },
          "metadata": {},
          "output_type": "execute_result",
          "execution_count": 28
        }
      ],
      "source": "today.year",
      "metadata": {
        "pycharm": {
          "metadata": false,
          "name": "#%%\n",
          "is_executing": false
        }
      }
    },
    {
      "cell_type": "code",
      "execution_count": 29,
      "outputs": [
        {
          "data": {
            "text/plain": "4"
          },
          "metadata": {},
          "output_type": "execute_result",
          "execution_count": 29
        }
      ],
      "source": "today.month",
      "metadata": {
        "pycharm": {
          "metadata": false,
          "name": "#%%\n",
          "is_executing": false
        }
      }
    },
    {
      "cell_type": "code",
      "execution_count": 30,
      "outputs": [
        {
          "data": {
            "text/plain": "1"
          },
          "metadata": {},
          "output_type": "execute_result",
          "execution_count": 30
        }
      ],
      "source": "today.day",
      "metadata": {
        "pycharm": {
          "metadata": false,
          "name": "#%%\n",
          "is_executing": false
        }
      }
    },
    {
      "cell_type": "code",
      "execution_count": 31,
      "outputs": [
        {
          "data": {
            "text/plain": "datetime.date(2019, 12, 25)"
          },
          "metadata": {},
          "output_type": "execute_result",
          "execution_count": 31
        }
      ],
      "source": "christmas \u003d date(2019, 12, 25)\nchristmas",
      "metadata": {
        "pycharm": {
          "metadata": false,
          "name": "#%%\n",
          "is_executing": false
        }
      }
    },
    {
      "cell_type": "code",
      "execution_count": 39,
      "outputs": [
        {
          "name": "stdout",
          "text": [
            "Sorry, there are still 268 until Christmas!",
            "\n"
          ],
          "output_type": "stream"
        }
      ],
      "source": "if christmas is not todaydate:\n    print(\"Sorry, there are still \" + str((christmas - todaydate).days) + \" until Christmas!\")\nelse:\n    print(\"Yay, it\u0027s Christmas!\")",
      "metadata": {
        "pycharm": {
          "metadata": false,
          "name": "#%%\n",
          "is_executing": false
        }
      }
    },
    {
      "cell_type": "markdown",
      "source": "Timedelta",
      "metadata": {
        "pycharm": {
          "metadata": false,
          "name": "#%% md\n"
        }
      }
    },
    {
      "cell_type": "code",
      "source": "from datetime import timedelta\n\nt \u003d timedelta(days \u003d 4, hours \u003d 10)\nprint(t)\n",
      "metadata": {
        "pycharm": {
          "metadata": false,
          "name": "#%%\n",
          "is_executing": false
        }
      },
      "execution_count": 41,
      "outputs": [
        {
          "name": "stdout",
          "text": [
            "4 days, 10:00:00\n"
          ],
          "output_type": "stream"
        }
      ]
    },
    {
      "cell_type": "code",
      "execution_count": 71,
      "outputs": [
        {
          "data": {
            "text/plain": "4"
          },
          "metadata": {},
          "output_type": "execute_result",
          "execution_count": 71
        }
      ],
      "source": "t.days",
      "metadata": {
        "pycharm": {
          "metadata": false,
          "name": "#%%\n",
          "is_executing": false
        }
      }
    },
    {
      "cell_type": "code",
      "execution_count": 72,
      "outputs": [
        {
          "data": {
            "text/plain": "36000"
          },
          "metadata": {},
          "output_type": "execute_result",
          "execution_count": 72
        }
      ],
      "source": "t.seconds",
      "metadata": {
        "pycharm": {
          "metadata": false,
          "name": "#%%\n",
          "is_executing": false
        }
      }
    },
    {
      "cell_type": "code",
      "execution_count": 73,
      "outputs": [
        {
          "traceback": [
            "\u001b[0;31m---------------------------------------------------------------------------\u001b[0m",
            "\u001b[0;31mAttributeError\u001b[0m                            Traceback (most recent call last)",
            "\u001b[0;32m\u003cipython-input-73-2d72c208114f\u003e\u001b[0m in \u001b[0;36m\u003cmodule\u003e\u001b[0;34m\u001b[0m\n\u001b[1;32m      1\u001b[0m \u001b[0;31m#timedelta has keyword argument hours, but no return attribute of hours\u001b[0m\u001b[0;34m\u001b[0m\u001b[0;34m\u001b[0m\u001b[0m\n\u001b[0;32m----\u003e 2\u001b[0;31m \u001b[0mt\u001b[0m\u001b[0;34m.\u001b[0m\u001b[0mhours\u001b[0m \u001b[0;31m# will throw an error!\u001b[0m\u001b[0;34m\u001b[0m\u001b[0m\n\u001b[0m",
            "\u001b[0;31mAttributeError\u001b[0m: \u0027datetime.timedelta\u0027 object has no attribute \u0027hours\u0027"
          ],
          "ename": "AttributeError",
          "evalue": "\u0027datetime.timedelta\u0027 object has no attribute \u0027hours\u0027",
          "output_type": "error"
        }
      ],
      "source": "#timedelta has keyword argument hours, but no return attribute of hours\nt.hours # will throw an error!",
      "metadata": {
        "pycharm": {
          "metadata": false,
          "name": "#%%\n",
          "is_executing": false
        }
      }
    },
    {
      "cell_type": "code",
      "execution_count": 74,
      "outputs": [
        {
          "data": {
            "text/plain": "[\u0027__abs__\u0027,\n \u0027__add__\u0027,\n \u0027__bool__\u0027,\n \u0027__class__\u0027,\n \u0027__delattr__\u0027,\n \u0027__dir__\u0027,\n \u0027__divmod__\u0027,\n \u0027__doc__\u0027,\n \u0027__eq__\u0027,\n \u0027__floordiv__\u0027,\n \u0027__format__\u0027,\n \u0027__ge__\u0027,\n \u0027__getattribute__\u0027,\n \u0027__gt__\u0027,\n \u0027__hash__\u0027,\n \u0027__init__\u0027,\n \u0027__init_subclass__\u0027,\n \u0027__le__\u0027,\n \u0027__lt__\u0027,\n \u0027__mod__\u0027,\n \u0027__mul__\u0027,\n \u0027__ne__\u0027,\n \u0027__neg__\u0027,\n \u0027__new__\u0027,\n \u0027__pos__\u0027,\n \u0027__radd__\u0027,\n \u0027__rdivmod__\u0027,\n \u0027__reduce__\u0027,\n \u0027__reduce_ex__\u0027,\n \u0027__repr__\u0027,\n \u0027__rfloordiv__\u0027,\n \u0027__rmod__\u0027,\n \u0027__rmul__\u0027,\n \u0027__rsub__\u0027,\n \u0027__rtruediv__\u0027,\n \u0027__setattr__\u0027,\n \u0027__sizeof__\u0027,\n \u0027__str__\u0027,\n \u0027__sub__\u0027,\n \u0027__subclasshook__\u0027,\n \u0027__truediv__\u0027,\n \u0027days\u0027,\n \u0027max\u0027,\n \u0027microseconds\u0027,\n \u0027min\u0027,\n \u0027resolution\u0027,\n \u0027seconds\u0027,\n \u0027total_seconds\u0027]"
          },
          "metadata": {},
          "output_type": "execute_result",
          "execution_count": 74
        }
      ],
      "source": "#important attributes are days, max, microseconds, resolution, min, seconds, total_seconds\n#watch out for inaccurate returns for seconds; \u0027seconds\u0027 alone can only return a maximum of 24hours worth of seconds\ndir(t)",
      "metadata": {
        "pycharm": {
          "metadata": false,
          "name": "#%%\n",
          "is_executing": false
        }
      }
    },
    {
      "cell_type": "code",
      "execution_count": 75,
      "outputs": [
        {
          "data": {
            "text/plain": "4"
          },
          "metadata": {},
          "output_type": "execute_result",
          "execution_count": 75
        }
      ],
      "source": "t.days",
      "metadata": {
        "pycharm": {
          "metadata": false,
          "name": "#%%\n",
          "is_executing": false
        }
      }
    },
    {
      "cell_type": "code",
      "execution_count": 77,
      "outputs": [
        {
          "name": "stdout",
          "text": [
            "36000\n0\n381600.0\n"
          ],
          "output_type": "stream"
        }
      ],
      "source": "print(t.seconds)\nprint(t.microseconds)\nprint(t.total_seconds())",
      "metadata": {
        "pycharm": {
          "metadata": false,
          "name": "#%%\n",
          "is_executing": false
        }
      }
    },
    {
      "cell_type": "code",
      "execution_count": 65,
      "outputs": [
        {
          "data": {
            "text/plain": "10.0"
          },
          "metadata": {},
          "output_type": "execute_result",
          "execution_count": 65
        }
      ],
      "source": "t.seconds / 60 / 60",
      "metadata": {
        "pycharm": {
          "metadata": false,
          "name": "#%%\n",
          "is_executing": false
        }
      }
    },
    {
      "cell_type": "code",
      "execution_count": 66,
      "outputs": [
        {
          "traceback": [
            "\u001b[0;31m---------------------------------------------------------------------------\u001b[0m",
            "\u001b[0;31mAttributeError\u001b[0m                            Traceback (most recent call last)",
            "\u001b[0;32m\u003cipython-input-66-8acab2d9872e\u003e\u001b[0m in \u001b[0;36m\u003cmodule\u003e\u001b[0;34m\u001b[0m\n\u001b[1;32m      1\u001b[0m \u001b[0meta\u001b[0m \u001b[0;34m\u003d\u001b[0m \u001b[0mtimedelta\u001b[0m\u001b[0;34m(\u001b[0m\u001b[0mhours\u001b[0m\u001b[0;34m\u003d\u001b[0m\u001b[0;36m6\u001b[0m\u001b[0;34m)\u001b[0m\u001b[0;34m\u001b[0m\u001b[0m\n\u001b[0;32m----\u003e 2\u001b[0;31m \u001b[0mtoday\u001b[0m \u001b[0;34m\u003d\u001b[0m \u001b[0mdatetime\u001b[0m\u001b[0;34m.\u001b[0m\u001b[0mtoday\u001b[0m\u001b[0;34m(\u001b[0m\u001b[0;34m)\u001b[0m\u001b[0;34m\u001b[0m\u001b[0m\n\u001b[0m",
            "\u001b[0;31mAttributeError\u001b[0m: module \u0027datetime\u0027 has no attribute \u0027today\u0027"
          ],
          "ename": "AttributeError",
          "evalue": "module \u0027datetime\u0027 has no attribute \u0027today\u0027",
          "output_type": "error"
        }
      ],
      "source": "eta \u003d timedelta(hours\u003d6)\ntoday \u003d datetime.today()",
      "metadata": {
        "pycharm": {
          "metadata": false,
          "name": "#%%\n",
          "is_executing": false
        }
      }
    },
    {
      "cell_type": "code",
      "execution_count": 67,
      "outputs": [
        {
          "data": {
            "text/plain": "datetime.timedelta(0, 21600)"
          },
          "metadata": {},
          "output_type": "execute_result",
          "execution_count": 67
        }
      ],
      "source": "eta",
      "metadata": {
        "pycharm": {
          "metadata": false,
          "name": "#%%\n",
          "is_executing": false
        }
      }
    },
    {
      "cell_type": "code",
      "execution_count": 68,
      "outputs": [
        {
          "data": {
            "text/plain": "datetime.datetime(2019, 4, 1, 21, 7, 52, 394548)"
          },
          "metadata": {},
          "output_type": "execute_result",
          "execution_count": 68
        }
      ],
      "source": "today",
      "metadata": {
        "pycharm": {
          "metadata": false,
          "name": "#%%\n",
          "is_executing": false
        }
      }
    },
    {
      "cell_type": "code",
      "execution_count": 69,
      "outputs": [
        {
          "data": {
            "text/plain": "datetime.datetime(2019, 4, 2, 3, 7, 52, 394548)"
          },
          "metadata": {},
          "output_type": "execute_result",
          "execution_count": 69
        }
      ],
      "source": "today + eta",
      "metadata": {
        "pycharm": {
          "metadata": false,
          "name": "#%%\n",
          "is_executing": false
        }
      }
    },
    {
      "cell_type": "code",
      "execution_count": 70,
      "outputs": [
        {
          "data": {
            "text/plain": "\u00272019-04-02 03:07:52.394548\u0027"
          },
          "metadata": {},
          "output_type": "execute_result",
          "execution_count": 70
        }
      ],
      "source": "str(today + eta)",
      "metadata": {
        "pycharm": {
          "metadata": false,
          "name": "#%%\n",
          "is_executing": false
        }
      }
    },
    {
      "cell_type": "code",
      "execution_count": 55,
      "outputs": [
        {
          "name": "stdout",
          "text": [
            "2010-01-01 18:48:14.631829\n2010-01-01 18:48:14.631829\n"
          ],
          "output_type": "stream"
        }
      ],
      "source": "s \u003d \"2010-01-01 18:48:14.631829\"\nprint(s)\ntest \u003d datetime.strptime(s, \"%Y-%m-%d %H:%M:%S.%f\")\nprint(test)",
      "metadata": {
        "pycharm": {
          "metadata": false,
          "name": "#%%\n",
          "is_executing": false
        }
      }
    },
    {
      "cell_type": "code",
      "execution_count": 59,
      "outputs": [
        {
          "name": "stdout",
          "text": [
            "Current year:  2019\nCurrent date and time:  2019-04-01 21:13:59.224809\nOr like this:  19-04-01-21-13\nOr like this:  19-04-01 21:13\nCurrent year:  2019\nMonth of year:  April\nWeek number of the year:  13\nWeekday of the week:  1\nDay of year:  091\nDay of the month :  01\nDay of week:  Monday\n"
          ],
          "output_type": "stream"
        }
      ],
      "source": "import datetime \n# import allows date.today(), otherwise have to write datetime.date.today()\nprint(\"Current year: \", date.today().strftime(\"%Y\"))\n\nprint(\"Current date and time: \" , datetime.datetime.now())\nprint(\"Or like this: \" ,datetime.datetime.now().strftime(\"%y-%m-%d-%H-%M\"))\nprint(\"Or like this: \" ,datetime.datetime.now().strftime(\"%y-%m-%d %H:%M\"))\n\nprint(\"Current year: \", datetime.date.today().strftime(\"%Y\"))\nprint(\"Month of year: \", datetime.date.today().strftime(\"%B\"))\nprint(\"Week number of the year: \", datetime.date.today().strftime(\"%W\"))\nprint(\"Weekday of the week: \", datetime.date.today().strftime(\"%w\"))\nprint(\"Day of year: \", datetime.date.today().strftime(\"%j\"))\nprint(\"Day of the month : \", datetime.date.today().strftime(\"%d\"))\nprint(\"Day of week: \", datetime.date.today().strftime(\"%A\"))",
      "metadata": {
        "pycharm": {
          "metadata": false,
          "name": "#%%\n",
          "is_executing": false
        }
      }
    },
    {
      "cell_type": "code",
      "execution_count": null,
      "outputs": [],
      "source": "\n",
      "metadata": {
        "pycharm": {
          "metadata": false,
          "name": "#%%\n"
        }
      }
    }
  ],
  "metadata": {
    "language_info": {
      "codemirror_mode": {
        "name": "ipython",
        "version": 2
      },
      "file_extension": ".py",
      "mimetype": "text/x-python",
      "name": "python",
      "nbconvert_exporter": "python",
      "pygments_lexer": "ipython2",
      "version": "2.7.6"
    },
    "kernelspec": {
      "name": "python3",
      "language": "python",
      "display_name": "Python 3"
    }
  },
  "nbformat": 4,
  "nbformat_minor": 0
}