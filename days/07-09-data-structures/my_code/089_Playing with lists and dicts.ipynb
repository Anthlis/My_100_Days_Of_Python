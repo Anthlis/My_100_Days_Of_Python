{
  "cells": [
    {
      "cell_type": "markdown",
      "metadata": {
        "pycharm": {}
      },
      "source": [
        "# Day 9\n",
        "\n",
        "### Today was another pybite challenge, Bite [89](https://codechalleng.es/bites/89/) Playing with lists and dicts\n",
        "\n",
        "---"
      ]
    },
    {
      "cell_type": "markdown",
      "metadata": {
        "pycharm": {}
      },
      "source": [
        "Bite 89. Playing with lists and dicts\n",
        "In this Bite you are presented with a us_state_abbrev dict and a states list.\n",
        "\n",
        "Complete the four methods in the template below (you might have to scroll down): get_every_nth_state, get_state_abbrev, get_longest_state and combine_state_names_and_abbreviations, following the instructions in their docstrings.\n",
        "\n",
        "We hope this gives you a good feeling of how you can get data out of these two data structures.\n",
        "\n",
        "Of course there is a lot more to it, you will come to appreciate the power of each data structure by continuous usage. So keep coding and improving your Python skills. And have fun!"
      ]
    },
    {
      "cell_type": "markdown",
      "metadata": {
        "pycharm": {}
      },
      "source": [
        "###### Load the data...\n"
      ]
    },
    {
      "cell_type": "code",
      "execution_count": 2,
      "metadata": {
        "pycharm": {
          "is_executing": false
        }
      },
      "outputs": [],
      "source": [
        "us_state_abbrev \u003d {\u0027Alabama\u0027: \u0027AL\u0027, \u0027Alaska\u0027: \u0027AK\u0027, \u0027Arizona\u0027: \u0027AZ\u0027,\n",
        "                   \u0027Arkansas\u0027: \u0027AR\u0027, \u0027California\u0027: \u0027CA\u0027, \u0027Colorado\u0027: \u0027CO\u0027,\n",
        "                   \u0027Connecticut\u0027: \u0027CT\u0027, \u0027Delaware\u0027: \u0027DE\u0027, \u0027Florida\u0027: \u0027FL\u0027,\n",
        "                   \u0027Georgia\u0027: \u0027GA\u0027, \u0027Hawaii\u0027: \u0027HI\u0027, \u0027Idaho\u0027: \u0027ID\u0027,\n",
        "                   \u0027Illinois\u0027: \u0027IL\u0027, \u0027Indiana\u0027: \u0027IN\u0027, \u0027Iowa\u0027: \u0027IA\u0027,\n",
        "                   \u0027Kansas\u0027: \u0027KS\u0027, \u0027Kentucky\u0027: \u0027KY\u0027, \u0027Louisiana\u0027: \u0027LA\u0027,\n",
        "                   \u0027Maine\u0027: \u0027ME\u0027, \u0027Maryland\u0027: \u0027MD\u0027, \u0027Massachusetts\u0027: \u0027MA\u0027,\n",
        "                   \u0027Michigan\u0027: \u0027MI\u0027, \u0027Minnesota\u0027: \u0027MN\u0027, \u0027Mississippi\u0027: \u0027MS\u0027,\n",
        "                   \u0027Missouri\u0027: \u0027MO\u0027, \u0027Montana\u0027: \u0027MT\u0027, \u0027Nebraska\u0027: \u0027NE\u0027,\n",
        "                   \u0027Nevada\u0027: \u0027NV\u0027, \u0027New Hampshire\u0027: \u0027NH\u0027, \u0027New Jersey\u0027: \u0027NJ\u0027,\n",
        "                   \u0027New Mexico\u0027: \u0027NM\u0027, \u0027New York\u0027: \u0027NY\u0027,\n",
        "                   \u0027North Carolina\u0027: \u0027NC\u0027, \u0027North Dakota\u0027: \u0027ND\u0027,\n",
        "                   \u0027Ohio\u0027: \u0027OH\u0027, \u0027Oklahoma\u0027: \u0027OK\u0027, \u0027Oregon\u0027: \u0027OR\u0027,\n",
        "                   \u0027Pennsylvania\u0027: \u0027PA\u0027, \u0027Rhode Island\u0027: \u0027RI\u0027,\n",
        "                   \u0027South Carolina\u0027: \u0027SC\u0027, \u0027South Dakota\u0027: \u0027SD\u0027,\n",
        "                   \u0027Tennessee\u0027: \u0027TN\u0027, \u0027Texas\u0027: \u0027TX\u0027, \u0027Utah\u0027: \u0027UT\u0027,\n",
        "                   \u0027Vermont\u0027: \u0027VT\u0027, \u0027Virginia\u0027: \u0027VA\u0027, \u0027Washington\u0027: \u0027WA\u0027,\n",
        "                   \u0027West Virginia\u0027: \u0027WV\u0027, \u0027Wisconsin\u0027: \u0027WI\u0027, \u0027Wyoming\u0027: \u0027WY\u0027}\n",
        "\n",
        "states \u003d [\u0027Oklahoma\u0027, \u0027Kansas\u0027, \u0027North Carolina\u0027, \u0027Georgia\u0027, \u0027Oregon\u0027,\n",
        "          \u0027Mississippi\u0027, \u0027Minnesota\u0027, \u0027Colorado\u0027, \u0027Alabama\u0027,\n",
        "          \u0027Massachusetts\u0027, \u0027Arizona\u0027, \u0027Connecticut\u0027, \u0027Montana\u0027,\n",
        "          \u0027West Virginia\u0027, \u0027Nebraska\u0027, \u0027New York\u0027, \u0027Nevada\u0027, \u0027Idaho\u0027,\n",
        "          \u0027New Jersey\u0027, \u0027Missouri\u0027, \u0027South Carolina\u0027, \u0027Pennsylvania\u0027,\n",
        "          \u0027Rhode Island\u0027, \u0027New Mexico\u0027, \u0027Alaska\u0027, \u0027New Hampshire\u0027,\n",
        "          \u0027Tennessee\u0027, \u0027Washington\u0027, \u0027Indiana\u0027, \u0027Hawaii\u0027, \u0027Kentucky\u0027,\n",
        "          \u0027Virginia\u0027, \u0027Ohio\u0027, \u0027Wisconsin\u0027, \u0027Maryland\u0027, \u0027Florida\u0027,\n",
        "          \u0027Utah\u0027, \u0027Maine\u0027, \u0027California\u0027, \u0027Vermont\u0027, \u0027Arkansas\u0027, \u0027Wyoming\u0027,\n",
        "          \u0027Louisiana\u0027, \u0027North Dakota\u0027, \u0027South Dakota\u0027, \u0027Texas\u0027,\n",
        "          \u0027Illinois\u0027, \u0027Iowa\u0027, \u0027Michigan\u0027, \u0027Delaware\u0027]\n",
        "\n",
        "NOT_FOUND \u003d \u0027N/A\u0027\n"
      ]
    },
    {
      "cell_type": "markdown",
      "metadata": {
        "pycharm": {}
      },
      "source": [
        "---\n",
        "### 1. Return a list with every nth item (default 10th item) of states (takeaway: lists keep order)"
      ]
    },
    {
      "cell_type": "code",
      "execution_count": 3,
      "metadata": {
        "pycharm": {
          "is_executing": false
        }
      },
      "outputs": [],
      "source": [
        "def get_every_nth_state(states\u003dstates, n\u003d10):\n",
        "    \"\"\"Return a list with every nth item (default argument n\u003d10, so every\n",
        "       10th item) of the states list above (remember: lists keep order)\"\"\"\n",
        "    return [state for count, state in enumerate(states, start\u003d1) if count%n\u003d\u003d0]"
      ]
    },
    {
      "cell_type": "code",
      "execution_count": 4,
      "metadata": {
        "pycharm": {
          "is_executing": false
        }
      },
      "outputs": [
        {
          "data": {
            "text/plain": "[\u0027Massachusetts\u0027, \u0027Missouri\u0027, \u0027Hawaii\u0027, \u0027Vermont\u0027, \u0027Delaware\u0027]"
          },
          "metadata": {},
          "output_type": "execute_result",
          "execution_count": 4
        }
      ],
      "source": [
        "get_every_nth_state(n\u003d10)"
      ]
    },
    {
      "cell_type": "markdown",
      "metadata": {
        "pycharm": {}
      },
      "source": [
        "### 2. Look up a state abbreviation by full name in us_state_abbrev, if not found return the string stored in the NOT_FOUND constant (takeaway: dicts are great for lookups)"
      ]
    },
    {
      "cell_type": "markdown",
      "metadata": {
        "pycharm": {}
      },
      "source": [
        "```python\n",
        "def get_state_abbrev(state_name, us_state_abbrev\u003dus_state_abbrev):\n",
        "    \"\"\"Look up a state abbreviation by querying the us_state_abbrev\n",
        "       dict by full state name, for instance \u0027Alabama\u0027 returns \u0027AL\u0027,\n",
        "       \u0027Illinois\u0027 returns \u0027IL\u0027.\n",
        "       If the state is not in the dict, return \u0027N/A\u0027 which we stored\n",
        "       in the NOT_FOUND constant (takeaway: dicts are great for lookups)\"\"\"\n",
        "    try:\n",
        "        return us_state_abbrev[abbrev]\n",
        "    except KeyError as error:\n",
        "        return NOT_FOUND\n",
        "```\n"
      ]
    },
    {
      "cell_type": "markdown",
      "metadata": {
        "pycharm": {}
      },
      "source": [
        "```python\n",
        "get_state_abbrev(\u0027Illinois\u0027)\n",
        "\n",
        "---------------------------------------------------------------------------\n",
        "NameError                                 Traceback (most recent call last)\n",
        "\u003cipython-input-25-b156cad2a187\u003e in \u003cmodule\u003e\n",
        "----\u003e 1 get_state_abbrev(\u0027Illinois\u0027)\n",
        "\n",
        "\u003cipython-input-24-57fa2e2da730\u003e in get_state_abbrev(state_name, us_state_abbrev)\n",
        "      6        in the NOT_FOUND constant (takeaway: dicts are great for lookups)\"\"\"\n",
        "      7     try:\n",
        "----\u003e 8         return us_state_abbrev[abbrev]\n",
        "      9     except KeyError as error:\n",
        "     10         return NOT_FOUND\n",
        "\n",
        "NameError: name \u0027abbrev\u0027 is not defined\n",
        "```"
      ]
    },
    {
      "cell_type": "code",
      "execution_count": 5,
      "metadata": {
        "pycharm": {
          "is_executing": false
        }
      },
      "outputs": [],
      "source": [
        "def get_state_abbrev(state_name, us_state_abbrev\u003dus_state_abbrev):\n",
        "    \"\"\"Look up a state abbreviation by querying the us_state_abbrev\n",
        "       dict by full state name, for instance \u0027Alabama\u0027 returns \u0027AL\u0027,\n",
        "       \u0027Illinois\u0027 returns \u0027IL\u0027.\n",
        "       If the state is not in the dict, return \u0027N/A\u0027 which we stored\n",
        "       in the NOT_FOUND constant (takeaway: dicts are great for lookups)\"\"\"\n",
        "    return us_state_abbrev.get(state_name, NOT_FOUND)"
      ]
    },
    {
      "cell_type": "code",
      "execution_count": 6,
      "metadata": {
        "pycharm": {
          "is_executing": false
        }
      },
      "outputs": [
        {
          "data": {
            "text/plain": "\u0027IL\u0027"
          },
          "metadata": {},
          "output_type": "execute_result",
          "execution_count": 6
        }
      ],
      "source": [
        "get_state_abbrev(\u0027Illinois\u0027)"
      ]
    },
    {
      "cell_type": "code",
      "execution_count": 7,
      "metadata": {
        "pycharm": {
          "is_executing": false
        }
      },
      "outputs": [
        {
          "data": {
            "text/plain": "\u0027N/A\u0027"
          },
          "metadata": {},
          "output_type": "execute_result",
          "execution_count": 7
        }
      ],
      "source": [
        "get_state_abbrev(\u0027Toronto\u0027)"
      ]
    },
    {
      "cell_type": "markdown",
      "metadata": {
        "pycharm": {}
      },
      "source": [
        "### 3. Takes dict or list and determines the longest state name (takeaways: use a dict method to get all keys, use sorted)"
      ]
    },
    {
      "cell_type": "code",
      "execution_count": 8,
      "metadata": {
        "pycharm": {
          "is_executing": false
        }
      },
      "outputs": [],
      "source": [
        "def get_longest_state(data):\n",
        "    \"\"\"Receives data, which can be the us_state_abbrev dict or the states\n",
        "       list (see above). It returns the longest state measured by the length\n",
        "       of the string\"\"\"\n",
        "    return sorted(data, key \u003d lambda k: len(k))[-1]"
      ]
    },
    {
      "cell_type": "code",
      "execution_count": 9,
      "metadata": {
        "pycharm": {
          "is_executing": false
        }
      },
      "outputs": [
        {
          "data": {
            "text/plain": "\u0027South Carolina\u0027"
          },
          "metadata": {},
          "output_type": "execute_result",
          "execution_count": 9
        }
      ],
      "source": [
        "get_longest_state(us_state_abbrev)"
      ]
    },
    {
      "cell_type": "markdown",
      "metadata": {
        "pycharm": {}
      },
      "source": [
        "### 4. Return a new list with the first 10 abbreviations from the us_state_abbrev dict ordered values and the last 10 states from the states list (takeaways: use another dict method to get all values and use sorted, list slicing and list concatenation)"
      ]
    },
    {
      "cell_type": "code",
      "execution_count": 10,
      "metadata": {
        "pycharm": {
          "is_executing": false
        }
      },
      "outputs": [],
      "source": [
        "def combine_state_names_and_abbreviations(us_state_abbrev\u003dus_state_abbrev,\n",
        "                                          states\u003dstates):\n",
        "    \"\"\"Get the first 10 state abbreviations (\u0027AL\u0027, \u0027AK\u0027, \u0027AZ\u0027, ...) from\n",
        "       the us_state_abbrev dict, and the last 10 states from the states\n",
        "       list (see above) and combine them into a new list without losing\n",
        "       alphabetical order\"\"\"\n",
        "    sorted_states \u003d sorted(states)\n",
        "    return sorted([us_state_abbrev[state] for state in sorted_states[:10]]) + [state for state in sorted_states[-10:]]"
      ]
    },
    {
      "cell_type": "code",
      "execution_count": 11,
      "metadata": {
        "pycharm": {
          "is_executing": false
        }
      },
      "outputs": [
        {
          "data": {
            "text/plain": "[\u0027AK\u0027,\n \u0027AL\u0027,\n \u0027AR\u0027,\n \u0027AZ\u0027,\n \u0027CA\u0027,\n \u0027CO\u0027,\n \u0027CT\u0027,\n \u0027DE\u0027,\n \u0027FL\u0027,\n \u0027GA\u0027,\n \u0027South Dakota\u0027,\n \u0027Tennessee\u0027,\n \u0027Texas\u0027,\n \u0027Utah\u0027,\n \u0027Vermont\u0027,\n \u0027Virginia\u0027,\n \u0027Washington\u0027,\n \u0027West Virginia\u0027,\n \u0027Wisconsin\u0027,\n \u0027Wyoming\u0027]"
          },
          "metadata": {},
          "output_type": "execute_result",
          "execution_count": 11
        }
      ],
      "source": [
        "combine_state_names_and_abbreviations()"
      ]
    },
    {
      "cell_type": "markdown",
      "metadata": {
        "pycharm": {}
      },
      "source": [
        "An alternative, easier to understand approach:\n",
        "\n",
        "```python\n",
        "def combine_state_names_and_abbreviations():\n",
        "    stateList \u003d []\n",
        "    values \u003d list(sorted(us_state_abbrev.values()))\n",
        "    keys \u003d list(sorted(us_state_abbrev.keys()))\n",
        "    for value in values[:10]:\n",
        "        stateList.append(value)\n",
        "    for key in keys[-10:]:\n",
        "        stateList.append(key)\n",
        "    return stateList\n",
        "```"
      ]
    },
    {
      "cell_type": "code",
      "execution_count": 12,
      "metadata": {
        "pycharm": {
          "is_executing": false
        }
      },
      "outputs": [],
      "source": [
        "import pytest\n",
        "import ipytest\n",
        "import ipytest.magics\n",
        "\n",
        "ipytest.config.rewrite_asserts \u003d True\n",
        "__file__ \u003d \u0027009_Datastructures_Bite89.ipynb\u0027"
      ]
    },
    {
      "cell_type": "code",
      "execution_count": 13,
      "metadata": {
        "pycharm": {
          "is_executing": false
        }
      },
      "outputs": [
        {
          "name": "stdout",
          "text": [
            "\u003d\u003d\u003d\u003d\u003d\u003d\u003d\u003d\u003d\u003d\u003d\u003d\u003d\u003d\u003d\u003d\u003d\u003d\u003d\u003d\u003d\u003d\u003d\u003d\u003d\u003d\u003d\u003d\u003d test session starts \u003d\u003d\u003d\u003d\u003d\u003d\u003d\u003d\u003d\u003d\u003d\u003d\u003d\u003d\u003d\u003d\u003d\u003d\u003d\u003d\u003d\u003d\u003d\u003d\u003d\u003d\u003d\u003d\u003d\u003d",
            "\n",
            "platform darwin -- Python 3.6.5, pytest-4.4.0, py-1.8.0, pluggy-0.9.0",
            "\n",
            "rootdir: /Users/anthlis/Documents/Code/PyCharmProjects/notebooks/nb",
            "\n",
            "collected 4 items",
            "\n",
            "\n",
            "009_Datastructures_Bite89.py ",
            ".",
            ".",
            ".",
            ".",
            "                                        [100%]",
            "\n",
            "\n",
            "\u003d\u003d\u003d\u003d\u003d\u003d\u003d\u003d\u003d\u003d\u003d\u003d\u003d\u003d\u003d\u003d\u003d\u003d\u003d\u003d\u003d\u003d\u003d\u003d\u003d\u003d\u003d 4 passed in 0.16 seconds \u003d\u003d\u003d\u003d\u003d\u003d\u003d\u003d\u003d\u003d\u003d\u003d\u003d\u003d\u003d\u003d\u003d\u003d\u003d\u003d\u003d\u003d\u003d\u003d\u003d\u003d\u003d",
            "\n"
          ],
          "output_type": "stream"
        }
      ],
      "source": "# from states import (get_every_nth_state, get_state_abbrev,\n#                     get_longest_state, combine_state_names_and_abbreviations,\n#                     states, us_state_abbrev, NOT_FOUND)\n\n\ndef test_get_every_nth_state():\n    expected \u003d [\u0027Massachusetts\u0027, \u0027Missouri\u0027, \u0027Hawaii\u0027,\n                \u0027Vermont\u0027, \u0027Delaware\u0027]\n    assert list(get_every_nth_state()) \u003d\u003d expected\n    expected \u003d [\u0027Missouri\u0027, \u0027Vermont\u0027]\n    assert list(get_every_nth_state(n\u003d20)) \u003d\u003d expected\n\n\ndef test_get_state_abbrev():\n    assert get_state_abbrev(\u0027Illinois\u0027) \u003d\u003d \u0027IL\u0027\n    assert get_state_abbrev(\u0027North Dakota\u0027) \u003d\u003d \u0027ND\u0027\n    assert get_state_abbrev(\u0027bogus\u0027) \u003d\u003d NOT_FOUND\n\n\ndef test_get_longest_state():\n    # depending the direction of the sort (reversed or not)\n    # both North and South Carolina are correct\n    correct_answers \u003d (\u0027North Carolina\u0027, \u0027South Carolina\u0027)\n    assert get_longest_state(us_state_abbrev) in correct_answers\n    assert get_longest_state(states) in correct_answers\n\n\ndef test_combine_state_names_and_abbreviations():\n    expected \u003d [\u0027AK\u0027, \u0027AL\u0027, \u0027AR\u0027, \u0027AZ\u0027, \u0027CA\u0027, \u0027CO\u0027, \u0027CT\u0027, \u0027DE\u0027, \u0027FL\u0027, \u0027GA\u0027,\n                \u0027South Dakota\u0027, \u0027Tennessee\u0027, \u0027Texas\u0027, \u0027Utah\u0027,\n                \u0027Vermont\u0027, \u0027Virginia\u0027, \u0027Washington\u0027, \u0027West Virginia\u0027,\n                \u0027Wisconsin\u0027, \u0027Wyoming\u0027]\n    assert combine_state_names_and_abbreviations() \u003d\u003d expected\n    \nipytest.run()\n"
    }
  ],
  "metadata": {
    "kernelspec": {
      "display_name": "Python 3",
      "language": "python",
      "name": "python3"
    },
    "language_info": {
      "codemirror_mode": {
        "name": "ipython",
        "version": 3
      },
      "file_extension": ".py",
      "mimetype": "text/x-python",
      "name": "python",
      "nbconvert_exporter": "python",
      "pygments_lexer": "ipython3",
      "version": "3.6.5"
    }
  },
  "nbformat": 4,
  "nbformat_minor": 2
}