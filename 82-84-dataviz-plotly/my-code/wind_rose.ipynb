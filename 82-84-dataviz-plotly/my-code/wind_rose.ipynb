{
 "cells": [
  {
   "cell_type": "code",
   "execution_count": 14,
   "metadata": {},
   "outputs": [
    {
     "data": {
      "application/vnd.plotly.v1+json": {
       "config": {
        "linkText": "Export to plot.ly",
        "plotlyServerURL": "https://plot.ly",
        "showLink": false
       },
       "data": [
        {
         "marker": {
          "color": "rgb(106,81,163)"
         },
         "name": "Fri 28th",
         "r": [
          5,
          6,
          5,
          4,
          3,
          3,
          4,
          5
         ],
         "text": [
          "W",
          "W",
          "NW",
          "WNW",
          "NE",
          "NNE",
          "NNE"
         ],
         "type": "barpolar",
         "uid": "b7a1c399-b5cb-413d-afe4-f5ab370995bf"
        }
       ],
       "layout": {
        "font": {
         "size": 16
        },
        "legend": {
         "font": {
          "size": 16
         }
        },
        "orientation": 0,
        "radialaxis": {
         "ticksuffix": "%"
        },
        "title": {
         "text": "Wind Speed Distribution in Christchurch, NZ [29-Jun-19]"
        }
       }
      },
      "text/html": [
       "<div>\n",
       "        \n",
       "        \n",
       "            <div id=\"e89e3b69-b037-4ded-a733-e1eee317c2fe\" class=\"plotly-graph-div\" style=\"height:525px; width:100%;\"></div>\n",
       "            <script type=\"text/javascript\">\n",
       "                require([\"plotly\"], function(Plotly) {\n",
       "                    window.PLOTLYENV=window.PLOTLYENV || {};\n",
       "                    window.PLOTLYENV.BASE_URL='https://plot.ly';\n",
       "                    \n",
       "                if (document.getElementById(\"e89e3b69-b037-4ded-a733-e1eee317c2fe\")) {\n",
       "                    Plotly.newPlot(\n",
       "                        'e89e3b69-b037-4ded-a733-e1eee317c2fe',\n",
       "                        [{\"marker\": {\"color\": \"rgb(106,81,163)\"}, \"name\": \"Fri 28th\", \"r\": [5, 6, 5, 4, 3, 3, 4, 5], \"text\": [\"W\", \"W\", \"NW\", \"WNW\", \"NE\", \"NNE\", \"NNE\"], \"type\": \"barpolar\", \"uid\": \"b7a1c399-b5cb-413d-afe4-f5ab370995bf\"}],\n",
       "                        {\"font\": {\"size\": 16}, \"legend\": {\"font\": {\"size\": 16}}, \"orientation\": 0, \"radialaxis\": {\"ticksuffix\": \"%\"}, \"title\": {\"text\": \"Wind Speed Distribution in Christchurch, NZ [29-Jun-19]\"}},\n",
       "                        {\"showLink\": false, \"linkText\": \"Export to plot.ly\", \"plotlyServerURL\": \"https://plot.ly\", \"responsive\": true}\n",
       "                    ).then(function(){\n",
       "                            \n",
       "var gd = document.getElementById('e89e3b69-b037-4ded-a733-e1eee317c2fe');\n",
       "var x = new MutationObserver(function (mutations, observer) {{\n",
       "        var display = window.getComputedStyle(gd).display;\n",
       "        if (!display || display === 'none') {{\n",
       "            console.log([gd, 'removed!']);\n",
       "            Plotly.purge(gd);\n",
       "            observer.disconnect();\n",
       "        }}\n",
       "}});\n",
       "\n",
       "// Listen for the removal of the full notebook cells\n",
       "var notebookContainer = gd.closest('#notebook-container');\n",
       "if (notebookContainer) {{\n",
       "    x.observe(notebookContainer, {childList: true});\n",
       "}}\n",
       "\n",
       "// Listen for the clearing of the current output cell\n",
       "var outputEl = gd.closest('.output');\n",
       "if (outputEl) {{\n",
       "    x.observe(outputEl, {childList: true});\n",
       "}}\n",
       "\n",
       "                        })\n",
       "                };\n",
       "                });\n",
       "            </script>\n",
       "        </div>"
      ]
     },
     "metadata": {},
     "output_type": "display_data"
    }
   ],
   "source": [
    "import plotly\n",
    "import plotly.plotly as py\n",
    "import plotly.graph_objs as go\n",
    "\n",
    "trace1 = go.Barpolar(\n",
    "    r=[5, 6, 5, 4, 3, 3, 4, 5],\n",
    "    text=['W', 'W', 'NW', 'WNW', 'NE', 'NNE', 'NNE'],\n",
    "    name='Fri 28th',\n",
    "    marker=dict(\n",
    "        color='rgb(106,81,163)'\n",
    "    )\n",
    ")\n",
    "# trace2 = go.Barpolar(\n",
    "#     r=[57.49999999999999, 50.0, 45.0, 35.0, 20.0, 22.5, 37.5, 55.00000000000001],\n",
    "#     text=['North', 'N-E', 'East', 'S-E', 'South', 'S-W', 'West', 'N-W'],\n",
    "#     name='8-11 m/s',\n",
    "#     marker=dict(\n",
    "#         color='rgb(158,154,200)'\n",
    "#     )\n",
    "# )\n",
    "# trace3 = go.Barpolar(\n",
    "#     r=[40.0, 30.0, 30.0, 35.0, 7.5, 7.5, 32.5, 40.0],\n",
    "#     text=['North', 'N-E', 'East', 'S-E', 'South', 'S-W', 'West', 'N-W'],\n",
    "#     name='5-8 m/s',\n",
    "#     marker=dict(\n",
    "#         color='rgb(203,201,226)'\n",
    "#     )\n",
    "# )\n",
    "# trace4 = go.Barpolar(\n",
    "#     r=[20.0, 7.5, 15.0, 22.5, 2.5, 2.5, 12.5, 22.5],\n",
    "#     text=['North', 'N-E', 'East', 'S-E', 'South', 'S-W', 'West', 'N-W'],\n",
    "#     name='< 5 m/s',\n",
    "#     marker=dict(\n",
    "#         color='rgb(242,240,247)'\n",
    "#     )\n",
    "# )\n",
    "#data = [trace1, trace2, trace3, trace4]\n",
    "data = [trace1]\n",
    "layout = go.Layout(\n",
    "    title='Wind Speed Distribution in Christchurch, NZ [29-Jun-19]',\n",
    "    font=dict(\n",
    "        size=16\n",
    "    ),\n",
    "    legend=dict(\n",
    "        font=dict(\n",
    "            size=16\n",
    "        )\n",
    "    ),\n",
    "    radialaxis=dict(\n",
    "        ticksuffix='%'\n",
    "    ),\n",
    "    orientation=0\n",
    ")\n",
    "fig = go.Figure(data=data, layout=layout)\n",
    "plotly.offline.iplot(fig, filename='polar-area-chart')\n"
   ]
  },
  {
   "cell_type": "code",
   "execution_count": null,
   "metadata": {},
   "outputs": [],
   "source": []
  }
 ],
 "metadata": {
  "kernelspec": {
   "display_name": "venv",
   "language": "python",
   "name": "venv"
  },
  "language_info": {
   "codemirror_mode": {
    "name": "ipython",
    "version": 3
   },
   "file_extension": ".py",
   "mimetype": "text/x-python",
   "name": "python",
   "nbconvert_exporter": "python",
   "pygments_lexer": "ipython3",
   "version": "3.7.3"
  }
 },
 "nbformat": 4,
 "nbformat_minor": 2
}
