{
 "cells": [
  {
   "cell_type": "markdown",
   "metadata": {},
   "source": [
    "### Creating a new file:"
   ]
  },
  {
   "cell_type": "code",
   "execution_count": 16,
   "metadata": {},
   "outputs": [],
   "source": [
    "import openpyxl\n",
    "\n",
    "from openpyxl import Workbook\n",
    "import time"
   ]
  },
  {
   "cell_type": "code",
   "execution_count": 17,
   "metadata": {},
   "outputs": [],
   "source": [
    "wb = Workbook()\n",
    "sheet = wb.active"
   ]
  },
  {
   "cell_type": "code",
   "execution_count": 18,
   "metadata": {},
   "outputs": [],
   "source": [
    "sheet['A1'] = 56\n",
    "sheet['A2'] = 43"
   ]
  },
  {
   "cell_type": "code",
   "execution_count": 19,
   "metadata": {},
   "outputs": [],
   "source": [
    "now = time.strftime(\"%x\")\n",
    "sheet[\"A3\"] = now"
   ]
  },
  {
   "cell_type": "code",
   "execution_count": 20,
   "metadata": {},
   "outputs": [],
   "source": [
    "wb.save(\"sample.xlsx\")"
   ]
  },
  {
   "cell_type": "markdown",
   "metadata": {},
   "source": [
    "### Writing to a cell"
   ]
  },
  {
   "cell_type": "code",
   "execution_count": 21,
   "metadata": {},
   "outputs": [],
   "source": [
    "sheet[\"B1\"] = 1\n",
    "sheet.cell(row=2, column=2).value = 2\n",
    "wb.save(\"sample.xlsx\")"
   ]
  },
  {
   "cell_type": "markdown",
   "metadata": {},
   "source": [
    "### Appending values"
   ]
  },
  {
   "cell_type": "code",
   "execution_count": 22,
   "metadata": {},
   "outputs": [],
   "source": [
    "rows = (\n",
    "    (88, 46, 57),\n",
    "    (89, 38, 12),\n",
    "    (23, 59, 78),\n",
    "    (56, 21, 98),\n",
    "    (24, 18, 43),\n",
    "    (34, 15, 67)\n",
    ")\n",
    "\n",
    "for row in rows:\n",
    "    sheet.append(row)\n",
    "    \n",
    "wb.save(\"sample.xlsx\")\n",
    "    "
   ]
  },
  {
   "cell_type": "markdown",
   "metadata": {},
   "source": [
    "### Reading a cell"
   ]
  },
  {
   "cell_type": "code",
   "execution_count": 23,
   "metadata": {},
   "outputs": [
    {
     "name": "stdout",
     "output_type": "stream",
     "text": [
      "56\n",
      "43\n",
      "06/17/19\n",
      "06/17/19\n"
     ]
    }
   ],
   "source": [
    "wb = openpyxl.load_workbook('sample.xlsx')\n",
    "sheet = wb.active\n",
    "\n",
    "a1 = sheet['A1']\n",
    "a2 = sheet['A2']\n",
    "a3 = sheet.cell(row=3, column=1)\n",
    "a3_2 = sheet['A3']\n",
    "\n",
    "print(a1.value)\n",
    "print(a2.value)\n",
    "print(a3.value)\n",
    "print(a3_2.value)\n"
   ]
  },
  {
   "cell_type": "markdown",
   "metadata": {},
   "source": [
    "### Sheets"
   ]
  },
  {
   "cell_type": "code",
   "execution_count": 24,
   "metadata": {},
   "outputs": [],
   "source": [
    "ws1 = wb.create_sheet(\"Sheet Name\", 0)\n",
    "ws1.title = \"Items\"\n",
    "ws1.sheet_properties.tabColor = 'FFFF00'\n",
    "\n",
    "wb.save(filename = \"sample.xlsx\")"
   ]
  },
  {
   "cell_type": "code",
   "execution_count": 25,
   "metadata": {},
   "outputs": [
    {
     "data": {
      "text/plain": [
       "['Items', 'Sheet']"
      ]
     },
     "execution_count": 25,
     "metadata": {},
     "output_type": "execute_result"
    }
   ],
   "source": [
    "wb.sheetnames"
   ]
  },
  {
   "cell_type": "code",
   "execution_count": 26,
   "metadata": {},
   "outputs": [
    {
     "name": "stdout",
     "output_type": "stream",
     "text": [
      "Items\n",
      "Sheet\n"
     ]
    }
   ],
   "source": [
    "for ws in wb:\n",
    "    print(ws.title)"
   ]
  },
  {
   "cell_type": "markdown",
   "metadata": {},
   "source": [
    "### Change active sheet and Add stuff to new sheet"
   ]
  },
  {
   "cell_type": "code",
   "execution_count": 27,
   "metadata": {},
   "outputs": [
    {
     "name": "stdout",
     "output_type": "stream",
     "text": [
      "<Worksheet \"Items\">\n"
     ]
    }
   ],
   "source": [
    "active_sheet = wb.active\n",
    "print(active_sheet)"
   ]
  },
  {
   "cell_type": "code",
   "execution_count": 28,
   "metadata": {},
   "outputs": [
    {
     "name": "stdout",
     "output_type": "stream",
     "text": [
      "<Worksheet \"Sheet\">\n"
     ]
    }
   ],
   "source": [
    "wb.active = 1\n",
    "print(wb.active)"
   ]
  },
  {
   "cell_type": "code",
   "execution_count": 29,
   "metadata": {},
   "outputs": [
    {
     "name": "stdout",
     "output_type": "stream",
     "text": [
      "<Worksheet \"Sheet\">\n"
     ]
    }
   ],
   "source": [
    "active_sheet = wb.active\n",
    "print(active_sheet)"
   ]
  },
  {
   "cell_type": "code",
   "execution_count": 30,
   "metadata": {},
   "outputs": [],
   "source": [
    "ws1 = wb[\"Items\"]\n",
    "ws1['A1'] = 27\n",
    "ws1['A2'] = 28\n",
    "ws1['A3'] = 'Bacon'\n",
    "wb.save('sample.xlsx')"
   ]
  },
  {
   "cell_type": "code",
   "execution_count": 31,
   "metadata": {},
   "outputs": [],
   "source": [
    "ws2 = wb.create_sheet(\"Sheet Name\")\n",
    "ws2.title = \"Iteration\""
   ]
  },
  {
   "cell_type": "code",
   "execution_count": 32,
   "metadata": {},
   "outputs": [],
   "source": [
    "wb.active = 2\n",
    "ws2 = wb[\"Iteration\"]\n",
    "\n",
    "data = (\n",
    "    ('Items', 'Quantity'),\n",
    "    ('coins', 23),\n",
    "    ('chairs', 3),\n",
    "    ('pencils', 5),\n",
    "    ('bottles', 8),\n",
    "    ('books', 30)\n",
    ")\n",
    "\n",
    "for d in data:\n",
    "    ws2.append(d)\n",
    "    \n",
    "wb.save(\"sample.xlsx\")"
   ]
  },
  {
   "cell_type": "code",
   "execution_count": 33,
   "metadata": {},
   "outputs": [
    {
     "name": "stdout",
     "output_type": "stream",
     "text": [
      "Items    Quantity\n",
      "coins          23\n",
      "chairs          3\n",
      "pencils         5\n",
      "bottles         8\n",
      "books          30\n"
     ]
    }
   ],
   "source": [
    "cells = ws2['A1': 'B6']\n",
    "\n",
    "for c1, c2 in cells:\n",
    "    print(\"{0:8} {1:8}\".format(c1.value, c2.value))"
   ]
  },
  {
   "cell_type": "markdown",
   "metadata": {},
   "source": [
    "### max_row, max_column"
   ]
  },
  {
   "cell_type": "code",
   "execution_count": 34,
   "metadata": {},
   "outputs": [],
   "source": [
    "ws3 = wb.create_sheet(\"Sheet Name\")\n",
    "ws3.title = \"max\"\n",
    "ws3.sheet_properties.tabColor = '0072BA'\n",
    "\n",
    "wb.save(filename = \"sample.xlsx\")"
   ]
  },
  {
   "cell_type": "code",
   "execution_count": 35,
   "metadata": {},
   "outputs": [
    {
     "data": {
      "text/plain": [
       "['Items', 'Sheet', 'Iteration', 'max']"
      ]
     },
     "execution_count": 35,
     "metadata": {},
     "output_type": "execute_result"
    }
   ],
   "source": [
    "wb.sheetnames"
   ]
  },
  {
   "cell_type": "code",
   "execution_count": 36,
   "metadata": {},
   "outputs": [],
   "source": [
    "max = wb.active"
   ]
  },
  {
   "cell_type": "code",
   "execution_count": 37,
   "metadata": {},
   "outputs": [
    {
     "name": "stdout",
     "output_type": "stream",
     "text": [
      "<Worksheet \"Iteration\">\n"
     ]
    }
   ],
   "source": [
    "active_sheet = wb.active\n",
    "print(active_sheet)"
   ]
  },
  {
   "cell_type": "code",
   "execution_count": 38,
   "metadata": {},
   "outputs": [],
   "source": [
    "entries=[('Id','Name','Marks'),\n",
    "      (1,'ABC',50),\n",
    "      (2,'CDE',100)]\n",
    "\n",
    "# append all rows\n",
    "for entry in entries:\n",
    "    ws3.append(entry)\n",
    "    \n",
    "# save file\n",
    "wb.save('sample.xlsx')"
   ]
  },
  {
   "cell_type": "code",
   "execution_count": 39,
   "metadata": {},
   "outputs": [
    {
     "name": "stdout",
     "output_type": "stream",
     "text": [
      "Id | Name | Marks | \n",
      "\n",
      "1 | ABC | 50 | \n",
      "\n",
      "2 | CDE | 100 | \n",
      "\n"
     ]
    }
   ],
   "source": [
    "# get max row count\n",
    "max_row=ws3.max_row\n",
    "# get max column count\n",
    "max_column=ws3.max_column\n",
    "# iterate over all cells \n",
    "# iterate over all rows\n",
    "for i in range(1,max_row+1):\n",
    "     \n",
    "     # iterate over all columns\n",
    "     for j in range(1,max_column+1):\n",
    "          # get particular cell value    \n",
    "          cell_obj=ws3.cell(row=i,column=j)\n",
    "          # print cell value     \n",
    "          print(cell_obj.value,end=' | ')\n",
    "     # print new line\n",
    "     print('\\n')"
   ]
  },
  {
   "cell_type": "code",
   "execution_count": null,
   "metadata": {},
   "outputs": [],
   "source": []
  }
 ],
 "metadata": {
  "kernelspec": {
   "display_name": "Python 3",
   "language": "python",
   "name": "python3"
  },
  "language_info": {
   "codemirror_mode": {
    "name": "ipython",
    "version": 3
   },
   "file_extension": ".py",
   "mimetype": "text/x-python",
   "name": "python",
   "nbconvert_exporter": "python",
   "pygments_lexer": "ipython3",
   "version": "3.6.2"
  }
 },
 "nbformat": 4,
 "nbformat_minor": 2
}
