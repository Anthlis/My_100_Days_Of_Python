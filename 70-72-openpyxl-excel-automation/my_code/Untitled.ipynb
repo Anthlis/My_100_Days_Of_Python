{
 "cells": [
  {
   "cell_type": "markdown",
   "metadata": {},
   "source": [
    "### Creating a new worksheet"
   ]
  },
  {
   "cell_type": "code",
   "execution_count": 52,
   "metadata": {},
   "outputs": [],
   "source": [
    "import openpyxl\n",
    "from openpyxl import Workbook\n",
    "\n",
    "wb = Workbook()\n",
    "\n",
    "ws1 = wb.create_sheet(\"Sukhoi\")\n",
    "ws1.title = \"Title_A\"\n",
    "\n",
    "ws2 = wb.create_sheet(\"Boeing\", 0)\n",
    "ws2.title = \"Title_B\"\n",
    "\n",
    "wb.save(filename = \"sample_book.xlsx\")\n"
   ]
  },
  {
   "cell_type": "code",
   "execution_count": 53,
   "metadata": {},
   "outputs": [
    {
     "data": {
      "text/plain": [
       "['Title_B', 'Sheet', 'Title_A']"
      ]
     },
     "execution_count": 53,
     "metadata": {},
     "output_type": "execute_result"
    }
   ],
   "source": [
    "wb.sheetnames"
   ]
  },
  {
   "cell_type": "code",
   "execution_count": 54,
   "metadata": {},
   "outputs": [
    {
     "name": "stdout",
     "output_type": "stream",
     "text": [
      "Title_B\n",
      "Sheet\n",
      "Title_A\n"
     ]
    }
   ],
   "source": [
    "for ws in wb:\n",
    "    print(ws.title)"
   ]
  },
  {
   "cell_type": "code",
   "execution_count": 55,
   "metadata": {},
   "outputs": [],
   "source": [
    "ws1 = wb[\"Title_A\"] # select worksheet"
   ]
  },
  {
   "cell_type": "code",
   "execution_count": 56,
   "metadata": {},
   "outputs": [],
   "source": [
    "ws1 = wb.active\n",
    "\n",
    "wsprops = ws.sheet_properties\n",
    "wsprops.tabColor = \"1072BA\""
   ]
  },
  {
   "cell_type": "code",
   "execution_count": 57,
   "metadata": {},
   "outputs": [],
   "source": [
    "ws3 = wb.create_sheet('My_Color_Title')\n",
    "ws3.sheet_properties.tabColor = 'FFFF00'"
   ]
  },
  {
   "cell_type": "code",
   "execution_count": 58,
   "metadata": {},
   "outputs": [],
   "source": [
    "wb.save('sample_book.xlsx')"
   ]
  },
  {
   "cell_type": "code",
   "execution_count": 61,
   "metadata": {},
   "outputs": [],
   "source": [
    "ws1 = wb[\"Title_A\"]\n",
    "ws1['A1'] = 100\n",
    "wb.save('sample_book.xlsx')"
   ]
  },
  {
   "cell_type": "code",
   "execution_count": null,
   "metadata": {},
   "outputs": [],
   "source": []
  }
 ],
 "metadata": {
  "kernelspec": {
   "display_name": "Python 3",
   "language": "python",
   "name": "python3"
  },
  "language_info": {
   "codemirror_mode": {
    "name": "ipython",
    "version": 3
   },
   "file_extension": ".py",
   "mimetype": "text/x-python",
   "name": "python",
   "nbconvert_exporter": "python",
   "pygments_lexer": "ipython3",
   "version": "3.6.2"
  }
 },
 "nbformat": 4,
 "nbformat_minor": 2
}
