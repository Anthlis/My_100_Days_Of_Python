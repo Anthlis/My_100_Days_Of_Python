{
  "cells": [
    {
      "cell_type": "code",
      "execution_count": 1,
      "metadata": {
        "collapsed": true,
        "pycharm": {
          "is_executing": false
        }
      },
      "outputs": [
        {
          "data": {
            "text/plain": "[1, 3, 9]"
          },
          "metadata": {},
          "output_type": "execute_result",
          "execution_count": 1
        }
      ],
      "source": "\nx \u003d [1, 9, 3]\nx.sort()\nx"
    },
    {
      "cell_type": "markdown",
      "source": "sort is a fn that is \u0027part of\u0027 the list object - hence called a _method_.\nTo make our own types of objects, we need to use class definitions.\n\nA class definition is a _blueprint_ for a particular class of objects (e.g. lists, strings etc).\n\nIt describes:\n- What kind of data the class stores\n- What methods it has for acting on these data\n\nAn object _or instance_ is a realization of the class, created from the blueprint.\n\n- Each instance has its own unique data\n- Methods set out in the class definition act on this (and other) data.\n\nIn Python, the data and methods of an object are collectively referred to as _attributes_.\n\nAttributes are accessed via \"dotted attribute notation\"\n```python\n- object_name.data\n- object_name.method_name()\n```\n\nIn the example",
      "metadata": {
        "pycharm": {
          "metadata": false
        }
      }
    },
    {
      "cell_type": "code",
      "execution_count": 3,
      "outputs": [
        {
          "data": {
            "text/plain": "list"
          },
          "metadata": {},
          "output_type": "execute_result",
          "execution_count": 3
        }
      ],
      "source": "x \u003d [1, 9, 3]\nx.sort()\nx.__class__",
      "metadata": {
        "pycharm": {
          "metadata": false,
          "name": "#%%\n",
          "is_executing": false
        }
      }
    },
    {
      "cell_type": "markdown",
      "source": "```x``` is an object or instance, created from the definition of Python lists, but with its own particular data.\n```x.sort()``` and ```x.__class__``` are two attributes of ```x```\n```dir(x)``` can be used to view all the attributes of ```x```\n\n\n",
      "metadata": {
        "pycharm": {
          "metadata": false
        }
      }
    }
  ],
  "metadata": {
    "language_info": {
      "codemirror_mode": {
        "name": "ipython",
        "version": 2
      },
      "file_extension": ".py",
      "mimetype": "text/x-python",
      "name": "python",
      "nbconvert_exporter": "python",
      "pygments_lexer": "ipython2",
      "version": "2.7.6"
    },
    "kernelspec": {
      "name": "pycharm-8be7ec78",
      "language": "python",
      "display_name": "PyCharm (pythonic)"
    }
  },
  "nbformat": 4,
  "nbformat_minor": 0
}