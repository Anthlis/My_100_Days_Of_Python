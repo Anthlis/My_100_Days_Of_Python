{
 "cells": [
  {
   "cell_type": "code",
   "execution_count": 4,
   "metadata": {
    "pycharm": {
     "is_executing": false
    }
   },
   "outputs": [
    {
     "data": {
      "text/plain": [
       "[1, 3, 9]"
      ]
     },
     "execution_count": 4,
     "metadata": {},
     "output_type": "execute_result"
    }
   ],
   "source": [
    "\n",
    "x = [1, 9, 3]\n",
    "x.sort()\n",
    "x"
   ]
  },
  {
   "cell_type": "markdown",
   "metadata": {
    "pycharm": {
     "metadata": false
    }
   },
   "source": [
    "sort is a fn that is 'part of' the list object - hence called a _method_.\n",
    "To make our own types of objects, we need to use class definitions.\n",
    "\n",
    "A class definition is a _blueprint_ for a particular class of objects (e.g. lists, strings etc).\n",
    "\n",
    "It describes:\n",
    "- What kind of data the class stores\n",
    "- What methods it has for acting on these data\n",
    "\n",
    "An object _or instance_ is a realization of the class, created from the blueprint.\n",
    "\n",
    "- Each instance has its own unique data\n",
    "- Methods set out in the class definition act on this (and other) data.\n",
    "\n",
    "In Python, the data and methods of an object are collectively referred to as _attributes_.\n",
    "\n",
    "Attributes are accessed via \"dotted attribute notation\"\n",
    "```python\n",
    "- object_name.data\n",
    "- object_name.method_name()\n",
    "```\n",
    "\n",
    "In the example"
   ]
  },
  {
   "cell_type": "code",
   "execution_count": 5,
   "metadata": {
    "pycharm": {
     "is_executing": false,
     "metadata": false,
     "name": "#%%\n"
    }
   },
   "outputs": [
    {
     "data": {
      "text/plain": [
       "list"
      ]
     },
     "execution_count": 5,
     "metadata": {},
     "output_type": "execute_result"
    }
   ],
   "source": [
    "x = [1, 9, 3]\n",
    "x.sort()\n",
    "x.__class__"
   ]
  },
  {
   "cell_type": "markdown",
   "metadata": {
    "pycharm": {
     "metadata": false
    }
   },
   "source": [
    "```x``` is an object or instance, created from the definition of Python lists, but with its own particular data.\n",
    "```x.sort()``` and ```x.__class__``` are two attributes of ```x```\n",
    "```dir(x)``` can be used to view all the attributes of ```x```\n",
    "\n",
    "\n"
   ]
  },
  {
   "cell_type": "code",
   "execution_count": null,
   "metadata": {},
   "outputs": [],
   "source": []
  }
 ],
 "metadata": {
  "kernelspec": {
   "display_name": "PyCharm (pythonic)",
   "language": "python",
   "name": "pycharm-8be7ec78"
  },
  "language_info": {
   "codemirror_mode": {
    "name": "ipython",
    "version": 3
   },
   "file_extension": ".py",
   "mimetype": "text/x-python",
   "name": "python",
   "nbconvert_exporter": "python",
   "pygments_lexer": "ipython3",
   "version": "3.6.5"
  }
 },
 "nbformat": 4,
 "nbformat_minor": 1
}
