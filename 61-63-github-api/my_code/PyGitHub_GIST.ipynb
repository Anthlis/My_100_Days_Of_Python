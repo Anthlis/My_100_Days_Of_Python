{
 "cells": [
  {
   "cell_type": "code",
   "execution_count": 28,
   "metadata": {},
   "outputs": [],
   "source": [
    "from github import Github, InputFileContent\n",
    "import os"
   ]
  },
  {
   "cell_type": "code",
   "execution_count": 29,
   "metadata": {},
   "outputs": [
    {
     "data": {
      "text/plain": [
       "<github.MainClass.Github at 0x11087eeb8>"
      ]
     },
     "execution_count": 29,
     "metadata": {},
     "output_type": "execute_result"
    }
   ],
   "source": [
    "gh = Github()\n",
    "gh"
   ]
  },
  {
   "cell_type": "code",
   "execution_count": 30,
   "metadata": {},
   "outputs": [
    {
     "data": {
      "text/plain": [
       "(57, 60)"
      ]
     },
     "execution_count": 30,
     "metadata": {},
     "output_type": "execute_result"
    }
   ],
   "source": [
    "gh.rate_limiting"
   ]
  },
  {
   "cell_type": "code",
   "execution_count": 31,
   "metadata": {},
   "outputs": [
    {
     "data": {
      "text/plain": [
       "NamedUser(login=\"Anthlis\")"
      ]
     },
     "execution_count": 31,
     "metadata": {},
     "output_type": "execute_result"
    }
   ],
   "source": [
    "me = gh.get_user('anthlis')\n",
    "me"
   ]
  },
  {
   "cell_type": "code",
   "execution_count": 32,
   "metadata": {},
   "outputs": [],
   "source": [
    "token = os.environ['GH_GIST_CREATE_TOKEN']"
   ]
  },
  {
   "cell_type": "code",
   "execution_count": 33,
   "metadata": {},
   "outputs": [
    {
     "data": {
      "text/plain": [
       "<github.MainClass.Github at 0x11089f4e0>"
      ]
     },
     "execution_count": 33,
     "metadata": {},
     "output_type": "execute_result"
    }
   ],
   "source": [
    "gh = Github(token)\n",
    "gh"
   ]
  },
  {
   "cell_type": "code",
   "execution_count": 34,
   "metadata": {},
   "outputs": [
    {
     "data": {
      "text/plain": [
       "(4999, 5000)"
      ]
     },
     "execution_count": 34,
     "metadata": {},
     "output_type": "execute_result"
    }
   ],
   "source": [
    "gh.rate_limiting"
   ]
  },
  {
   "cell_type": "code",
   "execution_count": 35,
   "metadata": {},
   "outputs": [
    {
     "data": {
      "text/plain": [
       "AuthenticatedUser(login=None)"
      ]
     },
     "execution_count": 35,
     "metadata": {},
     "output_type": "execute_result"
    }
   ],
   "source": [
    "me = gh.get_user()\n",
    "me"
   ]
  },
  {
   "cell_type": "code",
   "execution_count": 36,
   "metadata": {},
   "outputs": [],
   "source": [
    "code = '''\n",
    "from collections import namedtuple\n",
    "\n",
    "Repo = namedtuple('Repo', 'name stars forks')\n",
    "\n",
    "\n",
    "def get_repo_stats(user, n=5):\n",
    "    \"\"\"Takes a Github user object and returns the top n most popular repos by star count,\n",
    "       skips forks.\"\"\"\n",
    "    repos = []\n",
    "    for repo in user.get_repos():\n",
    "        if repo.fork:\n",
    "            continue\n",
    "\n",
    "        repos.append(Repo(name=repo.name,\n",
    "                          stars=repo.stargazers_count,\n",
    "                          forks=repo.forks_count))\n",
    "        \n",
    "    return sorted(repos, key=lambda x: x.stars, reverse=True)[:n]\n",
    "'''"
   ]
  },
  {
   "cell_type": "code",
   "execution_count": 37,
   "metadata": {},
   "outputs": [
    {
     "data": {
      "text/plain": [
       "Gist(id=\"d959486d8dfd450c25634a42aec3a9b3\")"
      ]
     },
     "execution_count": 37,
     "metadata": {},
     "output_type": "execute_result"
    }
   ],
   "source": [
    "me.create_gist(True,\n",
    "              {\"repo_stats.py\": InputFileContent(code)},\n",
    "              \"Get GH user's most popular repos\")"
   ]
  },
  {
   "cell_type": "code",
   "execution_count": 39,
   "metadata": {},
   "outputs": [
    {
     "name": "stdout",
     "output_type": "stream",
     "text": [
      "Get GH user's most popular repos (2019-06-07 09:01:05)\n",
      "https://gist.github.com/d959486d8dfd450c25634a42aec3a9b3\n",
      "Replace all vowels in the input text string by a star character (*). (2019-03-19 04:17:51)\n",
      "https://gist.github.com/da2db0535c025856c50420009885e2a2\n",
      "Calculates the bearing between two points. (2019-03-16 22:18:54)\n",
      "https://gist.github.com/3b303ac8ca684e0860e6cb08e2279505\n",
      "Take two inputs and calculate the angle and type between them.  (2019-03-16 21:38:10)\n",
      "https://gist.github.com/4d0b2c1158bf5a2390f4a2f40410aff1\n",
      " (2019-03-01 09:18:04)\n",
      "https://gist.github.com/0f07f253098b0e8354ba3ce7c99406c0\n",
      "Download HumbleBundle books in batch with a simple Python script. (2018-08-29 00:34:26)\n",
      "https://gist.github.com/a532b4221cc22fc66fdfd634568251eb\n",
      " (2018-05-04 03:41:07)\n",
      "https://gist.github.com/417019e98a3674f2f4df2a3f41d607cb\n",
      " (2016-03-24 00:44:10)\n",
      "https://gist.github.com/3348e17331e51bce7924\n"
     ]
    }
   ],
   "source": [
    "for gist in gh.get_user('anthlis').get_gists():\n",
    "    print(f'{gist.description} ({gist.created_at})')\n",
    "    print(f'https://gist.github.com/{gist.id}')"
   ]
  },
  {
   "cell_type": "code",
   "execution_count": 40,
   "metadata": {},
   "outputs": [
    {
     "data": {
      "text/plain": [
       "'https://github.githubassets.com/images/icons/emoji/unicode/1f40d.png?v8'"
      ]
     },
     "execution_count": 40,
     "metadata": {},
     "output_type": "execute_result"
    }
   ],
   "source": [
    "gh.get_emojis()['snake']"
   ]
  },
  {
   "cell_type": "code",
   "execution_count": null,
   "metadata": {},
   "outputs": [],
   "source": []
  }
 ],
 "metadata": {
  "kernelspec": {
   "display_name": "venv",
   "language": "python",
   "name": "venv"
  },
  "language_info": {
   "codemirror_mode": {
    "name": "ipython",
    "version": 3
   },
   "file_extension": ".py",
   "mimetype": "text/x-python",
   "name": "python",
   "nbconvert_exporter": "python",
   "pygments_lexer": "ipython3",
   "version": "3.6.5"
  }
 },
 "nbformat": 4,
 "nbformat_minor": 2
}
