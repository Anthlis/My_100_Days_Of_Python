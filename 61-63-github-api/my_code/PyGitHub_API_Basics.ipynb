{
 "cells": [
  {
   "cell_type": "code",
   "execution_count": 2,
   "metadata": {},
   "outputs": [],
   "source": [
    "from collections import namedtuple\n",
    "import os\n",
    "\n",
    "from github import Github, InputFileContent"
   ]
  },
  {
   "cell_type": "code",
   "execution_count": 3,
   "metadata": {},
   "outputs": [
    {
     "data": {
      "text/plain": [
       "<github.MainClass.Github at 0x10fc2a080>"
      ]
     },
     "execution_count": 3,
     "metadata": {},
     "output_type": "execute_result"
    }
   ],
   "source": [
    "gh = Github()\n",
    "gh"
   ]
  },
  {
   "cell_type": "code",
   "execution_count": 4,
   "metadata": {},
   "outputs": [
    {
     "data": {
      "text/plain": [
       "(60, 60)"
      ]
     },
     "execution_count": 4,
     "metadata": {},
     "output_type": "execute_result"
    }
   ],
   "source": [
    "gh.rate_limiting"
   ]
  },
  {
   "cell_type": "code",
   "execution_count": 5,
   "metadata": {},
   "outputs": [
    {
     "data": {
      "text/plain": [
       "NamedUser(login=\"pybites\")"
      ]
     },
     "execution_count": 5,
     "metadata": {},
     "output_type": "execute_result"
    }
   ],
   "source": [
    "pb = gh.get_user('pybites')\n",
    "pb"
   ]
  },
  {
   "cell_type": "code",
   "execution_count": 6,
   "metadata": {},
   "outputs": [
    {
     "data": {
      "text/plain": [
       "<github.PaginatedList.PaginatedList at 0x10fbffb70>"
      ]
     },
     "execution_count": 6,
     "metadata": {},
     "output_type": "execute_result"
    }
   ],
   "source": [
    "pb.get_repos()"
   ]
  },
  {
   "cell_type": "code",
   "execution_count": 7,
   "metadata": {},
   "outputs": [],
   "source": [
    "Repo = namedtuple('Repo', 'name stars forks')"
   ]
  },
  {
   "cell_type": "code",
   "execution_count": 10,
   "metadata": {},
   "outputs": [],
   "source": [
    "def get_repo_stats(user, n=5):\n",
    "    repos = []\n",
    "    for repo in user.get_repos():\n",
    "        if repo.fork:\n",
    "            continue\n",
    "            \n",
    "        repos.append(Repo(name=repo.name,\n",
    "                         stars=repo.stargazers_count,\n",
    "                         forks=repo.forks_count))\n",
    "\n",
    "    return sorted(repos, key=lambda x: x.stars, reverse=True)[:n]"
   ]
  },
  {
   "cell_type": "code",
   "execution_count": 11,
   "metadata": {},
   "outputs": [
    {
     "data": {
      "text/plain": [
       "[Repo(name='challenges', stars=466, forks=1669),\n",
       " Repo(name='100DaysOfCode', stars=350, forks=143),\n",
       " Repo(name='blog_code', stars=22, forks=20),\n",
       " Repo(name='bday-app', stars=21, forks=9),\n",
       " Repo(name='karmabot', stars=19, forks=18)]"
      ]
     },
     "execution_count": 11,
     "metadata": {},
     "output_type": "execute_result"
    }
   ],
   "source": [
    "get_repo_stats(pb)"
   ]
  },
  {
   "cell_type": "code",
   "execution_count": 12,
   "metadata": {},
   "outputs": [
    {
     "data": {
      "text/plain": [
       "[Repo(name='python-jumpstart-course-demos', stars=562, forks=385),\n",
       " Repo(name='write-pythonic-code-demos', stars=549, forks=147),\n",
       " Repo(name='python-for-entrepreneurs-course-demos', stars=206, forks=102),\n",
       " Repo(name='python-switch', stars=142, forks=9),\n",
       " Repo(name='mongodb-quickstart-course', stars=124, forks=103)]"
      ]
     },
     "execution_count": 12,
     "metadata": {},
     "output_type": "execute_result"
    }
   ],
   "source": [
    "mk = gh.get_user('mikeckennedy')\n",
    "get_repo_stats(mk)"
   ]
  },
  {
   "cell_type": "code",
   "execution_count": 13,
   "metadata": {},
   "outputs": [
    {
     "data": {
      "text/plain": [
       "[Repo(name='aeropy', stars=0, forks=0),\n",
       " Repo(name='anthlis_old-github-dot-io', stars=0, forks=0),\n",
       " Repo(name='fibclk', stars=0, forks=0),\n",
       " Repo(name='flask_blog', stars=0, forks=0),\n",
       " Repo(name='MicroPython-Quickstart-Scripts', stars=0, forks=0)]"
      ]
     },
     "execution_count": 13,
     "metadata": {},
     "output_type": "execute_result"
    }
   ],
   "source": [
    "me = gh.get_user('anthlis')\n",
    "get_repo_stats(me)"
   ]
  },
  {
   "cell_type": "code",
   "execution_count": null,
   "metadata": {},
   "outputs": [],
   "source": []
  }
 ],
 "metadata": {
  "kernelspec": {
   "display_name": "venv",
   "language": "python",
   "name": "venv"
  },
  "language_info": {
   "codemirror_mode": {
    "name": "ipython",
    "version": 3
   },
   "file_extension": ".py",
   "mimetype": "text/x-python",
   "name": "python",
   "nbconvert_exporter": "python",
   "pygments_lexer": "ipython3",
   "version": "3.6.5"
  }
 },
 "nbformat": 4,
 "nbformat_minor": 2
}
