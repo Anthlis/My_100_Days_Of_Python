{
 "cells": [
  {
   "cell_type": "code",
   "execution_count": 10,
   "metadata": {},
   "outputs": [],
   "source": [
    "from functools import wraps\n",
    "import time"
   ]
  },
  {
   "cell_type": "code",
   "execution_count": 11,
   "metadata": {},
   "outputs": [],
   "source": [
    "def show_args(function):\n",
    "    @wraps(function)\n",
    "    def wrapper(*args, **kwargs):     \n",
    "        print('hi from decorator - args:')\n",
    "        print(args)\n",
    "        result = function(*args, **kwargs)\n",
    "        print('hi again from decorator - kwargs:')\n",
    "        print(kwargs)\n",
    "        return result\n",
    "    # return wrapper as a decorated function\n",
    "    return wrapper"
   ]
  },
  {
   "cell_type": "code",
   "execution_count": 12,
   "metadata": {},
   "outputs": [],
   "source": [
    "@show_args\n",
    "def get_profile(name, active=True, *sports, **awards):\n",
    "    print('\\n\\thi from the get_profile function\\n')"
   ]
  },
  {
   "cell_type": "code",
   "execution_count": 13,
   "metadata": {},
   "outputs": [
    {
     "name": "stdout",
     "output_type": "stream",
     "text": [
      "hi from decorator - args:\n",
      "('bob', True, 'basketball', 'soccer')\n",
      "\n",
      "\thi from the get_profile function\n",
      "\n",
      "hi again from decorator - kwargs:\n",
      "{'pythonista': 'special honor of the community', 'topcoder': '2017 code camp'}\n"
     ]
    }
   ],
   "source": [
    "get_profile('bob', True, 'basketball', 'soccer', \n",
    "            pythonista='special honor of the community', topcoder='2017 code camp')"
   ]
  },
  {
   "cell_type": "markdown",
   "metadata": {},
   "source": [
    "### Using @wraps"
   ]
  },
  {
   "cell_type": "code",
   "execution_count": 14,
   "metadata": {},
   "outputs": [],
   "source": [
    "def timeit(func):\n",
    "    '''Decorator to time a function'''\n",
    "    @wraps(func)\n",
    "    def wrapper(*args, **kwargs):\n",
    "        \n",
    "        # before calling the decorated function\n",
    "        print('== starting timer')\n",
    "        start = time.time()\n",
    "        \n",
    "        # call the decorated function\n",
    "        func(*args, **kwargs)\n",
    "        \n",
    "        # after calling the decorated function\n",
    "        end = time.time()\n",
    "        print(f'== {func.__name__} took {int(end-start)} seconds to complete')\n",
    "    \n",
    "    return wrapper"
   ]
  },
  {
   "cell_type": "code",
   "execution_count": 17,
   "metadata": {},
   "outputs": [
    {
     "name": "stdout",
     "output_type": "stream",
     "text": [
      "== starting timer\n",
      "(actual function) Done, report links ...\n",
      "== generate_report took 2 seconds to complete\n"
     ]
    }
   ],
   "source": [
    "@timeit\n",
    "def generate_report():\n",
    "    '''Function to generate revenue report'''\n",
    "    time.sleep(2)\n",
    "    print('(actual function) Done, report links ...')\n",
    "\n",
    "generate_report()"
   ]
  },
  {
   "cell_type": "markdown",
   "metadata": {},
   "source": [
    "### stacking decorators"
   ]
  },
  {
   "cell_type": "code",
   "execution_count": 25,
   "metadata": {},
   "outputs": [],
   "source": [
    "def timeit(func):\n",
    "    '''Decorator to time a function'''\n",
    "    @wraps(func)\n",
    "    def wrapper(*args, **kwargs):\n",
    "        \n",
    "        # before calling the decorated function\n",
    "        print('== starting timer')\n",
    "        start = time.time()\n",
    "        \n",
    "        # call the decorated function\n",
    "        func(*args, **kwargs)\n",
    "        \n",
    "        # after calling the decorated function\n",
    "        end = time.time()\n",
    "        print(f'== {func.__name__} took {int(end-start)} seconds to complete')\n",
    "    \n",
    "    return wrapper"
   ]
  },
  {
   "cell_type": "code",
   "execution_count": 26,
   "metadata": {},
   "outputs": [],
   "source": [
    "def print_args(func):\n",
    "    '''Decorator to print function arguments'''\n",
    "    @wraps(func)\n",
    "    def wrapper(*args, **kwargs):\n",
    "        \n",
    "        # before\n",
    "        print()\n",
    "        print('*** args:')\n",
    "        for arg in args:\n",
    "            print(f'- {arg}')\n",
    "        \n",
    "        print('**** kwargs:')\n",
    "        for k, v in kwargs.items():\n",
    "            print(f'- {k}: {v}')\n",
    "        print()\n",
    "        \n",
    "        # call func\n",
    "        func(*args, **kwargs)\n",
    "    return wrapper"
   ]
  },
  {
   "cell_type": "code",
   "execution_count": 27,
   "metadata": {},
   "outputs": [],
   "source": [
    "def generate_report(*months, **parameters):\n",
    "    time.sleep(2)\n",
    "    print('(actual function) Done, report links ...')"
   ]
  },
  {
   "cell_type": "code",
   "execution_count": 28,
   "metadata": {},
   "outputs": [],
   "source": [
    "@timeit\n",
    "@print_args\n",
    "def generate_report(*months, **parameters):\n",
    "    time.sleep(2)\n",
    "    print('(actual function) Done, report links ...')"
   ]
  },
  {
   "cell_type": "code",
   "execution_count": 29,
   "metadata": {},
   "outputs": [],
   "source": [
    "parameters = dict(split_geos=True, include_suborgs=False, tax_rate=33)"
   ]
  },
  {
   "cell_type": "code",
   "execution_count": 30,
   "metadata": {},
   "outputs": [
    {
     "name": "stdout",
     "output_type": "stream",
     "text": [
      "== starting timer\n",
      "\n",
      "*** args:\n",
      "- October\n",
      "- November\n",
      "- December\n",
      "**** kwargs:\n",
      "- split_geos: True\n",
      "- include_suborgs: False\n",
      "- tax_rate: 33\n",
      "\n",
      "(actual function) Done, report links ...\n",
      "== generate_report took 2 seconds to complete\n"
     ]
    }
   ],
   "source": [
    "generate_report('October', 'November', 'December', **parameters)"
   ]
  },
  {
   "cell_type": "markdown",
   "metadata": {},
   "source": [
    "### Passing arguments to a decorator"
   ]
  },
  {
   "cell_type": "markdown",
   "metadata": {},
   "source": [
    "Another powerful capability of decs is the ability to pass arguments to them like normal functions, afterall they're functions too. Let's write a simple decorator to return a noun in a format:"
   ]
  },
  {
   "cell_type": "code",
   "execution_count": 31,
   "metadata": {},
   "outputs": [
    {
     "name": "stdout",
     "output_type": "stream",
     "text": [
      "My name is Ant\n",
      "My age is 44\n"
     ]
    }
   ],
   "source": [
    "def noun(i):\n",
    "    def tag(func):\n",
    "        def wrapper(name):\n",
    "            return \"My {0} is {1}\".format(i, func(name))\n",
    "        return wrapper\n",
    "    return tag\n",
    "\n",
    "@noun(\"name\")\n",
    "def say_something(something):\n",
    "    return something\n",
    "\n",
    "print(say_something('Ant'))\n",
    "\n",
    "@noun(\"age\")\n",
    "def say_something(something):\n",
    "    return something\n",
    "\n",
    "print(say_something(44))\n"
   ]
  },
  {
   "cell_type": "code",
   "execution_count": 58,
   "metadata": {},
   "outputs": [
    {
     "name": "stdout",
     "output_type": "stream",
     "text": [
      "<p><strong>abc</strong></p>\n"
     ]
    }
   ],
   "source": [
    "def noun(i):\n",
    "    def tag(func):\n",
    "        def wrapper(name):\n",
    "            return \"<{0}>{1}</{0}>\".format(i, func(name),i)\n",
    "        return wrapper\n",
    "    return tag\n",
    "\n",
    "@noun(\"p\")\n",
    "@noun(\"strong\")\n",
    "def say_something(something):\n",
    "    return something\n",
    "\n",
    "# print(say_something('Coding with PyBites!'))\n",
    "print(say_something('abc'))"
   ]
  },
  {
   "cell_type": "code",
   "execution_count": 105,
   "metadata": {},
   "outputs": [
    {
     "name": "stdout",
     "output_type": "stream",
     "text": [
      "<p><strong>Some random text here</strong></p>\n",
      "<function make_html.<locals>.tag.<locals>.wrapper at 0x009C8DB0>\n",
      "<p><strong>text</strong></p>\n",
      "<p><strong>I can code with PyBites</strong></p>\n"
     ]
    }
   ],
   "source": [
    "\n",
    "def make_html(i):\n",
    "    #@wraps(element)\n",
    "    def tag(func):\n",
    "        def wrapper(*args):\n",
    "            return \"<{0}>{1}</{0}>\".format(i, func(*args), i)\n",
    "        return wrapper\n",
    "    return tag\n",
    "\n",
    "\n",
    "@make_html(\"p\")\n",
    "@make_html(\"strong\")\n",
    "def get_text(text='I can code with PyBites'):\n",
    "    return text\n",
    "\n",
    "print(get_text('Some random text here'))\n",
    "# how do I get default text to print though? \n",
    "print(get_text)\n",
    "print(get_text('text'))\n",
    "print(get_text())"
   ]
  },
  {
   "cell_type": "code",
   "execution_count": 94,
   "metadata": {},
   "outputs": [],
   "source": [
    "@make_html('p')\n",
    "@make_html('strong')\n",
    "def get_text(text='I code with PyBites'):\n",
    "    return text\n",
    "\n",
    "from functools import wraps\n",
    "\n",
    "\n",
    "def make_html(element):\n",
    "    pass"
   ]
  },
  {
   "cell_type": "code",
   "execution_count": 63,
   "metadata": {},
   "outputs": [
    {
     "name": "stdout",
     "output_type": "stream",
     "text": [
      "<function test at 0x009BD660>\n",
      "<function test at 0x009BD660>\n"
     ]
    }
   ],
   "source": [
    "from functools import wraps\n",
    "\n",
    "def exponential_backoff(func):\n",
    "    @wraps(func)\n",
    "    def function_wrapper(*args, **kwargs):\n",
    "        pass\n",
    "    return function_wrapper\n",
    "\n",
    "@exponential_backoff\n",
    "def test():\n",
    "    pass\n",
    "\n",
    "print(test)  # <function exponential_backoff.<locals>.function_wrapper at 0x7fcc343a4268>\n",
    "# uncomment `@wraps(func)` line:\n",
    "print(test)  # <function test at 0x7fcc343a4400>"
   ]
  },
  {
   "cell_type": "markdown",
   "metadata": {},
   "source": [
    "```\n",
    "@exponential_backoff()\n",
    "def test():\n",
    "    pass```\n",
    "equals to:\n",
    "```\n",
    "def test():\n",
    "    pass\n",
    "\n",
    "test = exponential_backoff()(test)```"
   ]
  },
  {
   "cell_type": "code",
   "execution_count": null,
   "metadata": {},
   "outputs": [],
   "source": []
  }
 ],
 "metadata": {
  "kernelspec": {
   "display_name": "Python 3",
   "language": "python",
   "name": "python3"
  },
  "language_info": {
   "codemirror_mode": {
    "name": "ipython",
    "version": 3
   },
   "file_extension": ".py",
   "mimetype": "text/x-python",
   "name": "python",
   "nbconvert_exporter": "python",
   "pygments_lexer": "ipython3",
   "version": "3.6.2"
  }
 },
 "nbformat": 4,
 "nbformat_minor": 2
}
